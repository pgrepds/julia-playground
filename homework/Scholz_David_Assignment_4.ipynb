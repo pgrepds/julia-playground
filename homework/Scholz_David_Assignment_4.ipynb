{
 "cells": [
  {
   "cell_type": "markdown",
   "metadata": {},
   "source": [
    "# Week 4 Assignment"
   ]
  },
  {
   "cell_type": "code",
   "execution_count": 2,
   "metadata": {},
   "outputs": [],
   "source": [
    "# Import the required packages\n",
    "using Distributions, DataFrames, Random"
   ]
  },
  {
   "cell_type": "code",
   "execution_count": 9,
   "metadata": {},
   "outputs": [
    {
     "data": {
      "text/html": [
       "<div class=\"data-frame\"><p>30 rows × 4 columns</p><table class=\"data-frame\"><thead><tr><th></th><th>ID</th><th>var1</th><th>var2</th><th>var3</th></tr><tr><th></th><th title=\"Int64\">Int64</th><th title=\"Float64\">Float64</th><th title=\"Float64\">Float64</th><th title=\"Int64\">Int64</th></tr></thead><tbody><tr><th>1</th><td>1</td><td>0.1</td><td>10.6</td><td>8</td></tr><tr><th>2</th><td>2</td><td>0.6</td><td>9.4</td><td>6</td></tr><tr><th>3</th><td>3</td><td>-2.6</td><td>13.4</td><td>13</td></tr><tr><th>4</th><td>4</td><td>0.3</td><td>9.3</td><td>14</td></tr><tr><th>5</th><td>5</td><td>0.5</td><td>8.8</td><td>15</td></tr><tr><th>6</th><td>6</td><td>-1.2</td><td>8.0</td><td>15</td></tr><tr><th>7</th><td>7</td><td>0.8</td><td>9.6</td><td>13</td></tr><tr><th>8</th><td>8</td><td>1.9</td><td>11.9</td><td>8</td></tr><tr><th>9</th><td>9</td><td>0.6</td><td>10.6</td><td>10</td></tr><tr><th>10</th><td>10</td><td>0.9</td><td>10.2</td><td>13</td></tr><tr><th>11</th><td>11</td><td>-0.5</td><td>11.7</td><td>6</td></tr><tr><th>12</th><td>12</td><td>-2.1</td><td>9.3</td><td>10</td></tr><tr><th>13</th><td>13</td><td>0.3</td><td>11.4</td><td>5</td></tr><tr><th>14</th><td>14</td><td>1.1</td><td>12.1</td><td>15</td></tr><tr><th>15</th><td>15</td><td>-1.4</td><td>7.7</td><td>15</td></tr><tr><th>16</th><td>16</td><td>0.6</td><td>10.3</td><td>6</td></tr><tr><th>17</th><td>17</td><td>-0.7</td><td>7.9</td><td>12</td></tr><tr><th>18</th><td>18</td><td>0.7</td><td>12.4</td><td>8</td></tr><tr><th>19</th><td>19</td><td>-1.5</td><td>9.9</td><td>13</td></tr><tr><th>20</th><td>20</td><td>0.5</td><td>7.2</td><td>12</td></tr><tr><th>21</th><td>21</td><td>-0.2</td><td>8.9</td><td>7</td></tr><tr><th>22</th><td>22</td><td>-0.3</td><td>12.1</td><td>7</td></tr><tr><th>23</th><td>23</td><td>0.9</td><td>6.7</td><td>8</td></tr><tr><th>24</th><td>24</td><td>-0.6</td><td>12.0</td><td>12</td></tr><tr><th>&vellip;</th><td>&vellip;</td><td>&vellip;</td><td>&vellip;</td><td>&vellip;</td></tr></tbody></table></div>"
      ],
      "text/latex": [
       "\\begin{tabular}{r|cccc}\n",
       "\t& ID & var1 & var2 & var3\\\\\n",
       "\t\\hline\n",
       "\t& Int64 & Float64 & Float64 & Int64\\\\\n",
       "\t\\hline\n",
       "\t1 & 1 & 0.1 & 10.6 & 8 \\\\\n",
       "\t2 & 2 & 0.6 & 9.4 & 6 \\\\\n",
       "\t3 & 3 & -2.6 & 13.4 & 13 \\\\\n",
       "\t4 & 4 & 0.3 & 9.3 & 14 \\\\\n",
       "\t5 & 5 & 0.5 & 8.8 & 15 \\\\\n",
       "\t6 & 6 & -1.2 & 8.0 & 15 \\\\\n",
       "\t7 & 7 & 0.8 & 9.6 & 13 \\\\\n",
       "\t8 & 8 & 1.9 & 11.9 & 8 \\\\\n",
       "\t9 & 9 & 0.6 & 10.6 & 10 \\\\\n",
       "\t10 & 10 & 0.9 & 10.2 & 13 \\\\\n",
       "\t11 & 11 & -0.5 & 11.7 & 6 \\\\\n",
       "\t12 & 12 & -2.1 & 9.3 & 10 \\\\\n",
       "\t13 & 13 & 0.3 & 11.4 & 5 \\\\\n",
       "\t14 & 14 & 1.1 & 12.1 & 15 \\\\\n",
       "\t15 & 15 & -1.4 & 7.7 & 15 \\\\\n",
       "\t16 & 16 & 0.6 & 10.3 & 6 \\\\\n",
       "\t17 & 17 & -0.7 & 7.9 & 12 \\\\\n",
       "\t18 & 18 & 0.7 & 12.4 & 8 \\\\\n",
       "\t19 & 19 & -1.5 & 9.9 & 13 \\\\\n",
       "\t20 & 20 & 0.5 & 7.2 & 12 \\\\\n",
       "\t21 & 21 & -0.2 & 8.9 & 7 \\\\\n",
       "\t22 & 22 & -0.3 & 12.1 & 7 \\\\\n",
       "\t23 & 23 & 0.9 & 6.7 & 8 \\\\\n",
       "\t24 & 24 & -0.6 & 12.0 & 12 \\\\\n",
       "\t$\\dots$ & $\\dots$ & $\\dots$ & $\\dots$ & $\\dots$ \\\\\n",
       "\\end{tabular}\n"
      ],
      "text/plain": [
       "\u001b[1m30×4 DataFrame\u001b[0m\n",
       "\u001b[1m Row \u001b[0m│\u001b[1m ID    \u001b[0m\u001b[1m var1    \u001b[0m\u001b[1m var2    \u001b[0m\u001b[1m var3  \u001b[0m\n",
       "\u001b[1m     \u001b[0m│\u001b[90m Int64 \u001b[0m\u001b[90m Float64 \u001b[0m\u001b[90m Float64 \u001b[0m\u001b[90m Int64 \u001b[0m\n",
       "─────┼────────────────────────────────\n",
       "   1 │     1      0.1     10.6      8\n",
       "   2 │     2      0.6      9.4      6\n",
       "   3 │     3     -2.6     13.4     13\n",
       "   4 │     4      0.3      9.3     14\n",
       "   5 │     5      0.5      8.8     15\n",
       "   6 │     6     -1.2      8.0     15\n",
       "   7 │     7      0.8      9.6     13\n",
       "   8 │     8      1.9     11.9      8\n",
       "  ⋮  │   ⋮       ⋮        ⋮       ⋮\n",
       "  24 │    24     -0.6     12.0     12\n",
       "  25 │    25      0.7     12.1     13\n",
       "  26 │    26      0.3     10.4      7\n",
       "  27 │    27     -0.1      9.9      5\n",
       "  28 │    28     -0.3      7.6     11\n",
       "  29 │    29      1.1      8.2     13\n",
       "  30 │    30      1.3     12.6      5\n",
       "\u001b[36m                       15 rows omitted\u001b[0m"
      ]
     },
     "metadata": {},
     "output_type": "display_data"
    }
   ],
   "source": [
    "# Question 1: Create a dataframe named df1 with 30 rows and 4 columns\n",
    "df1 = DataFrame(ID=1:30, var1=round.(rand(Distributions.Normal(0, 1), 30), digits=1), var2=round.(rand(Distributions.Normal(10, 2), 30), digits=1), var3=rand(5:15, :30))"
   ]
  },
  {
   "cell_type": "code",
   "execution_count": 34,
   "metadata": {},
   "outputs": [
    {
     "name": "stdout",
     "output_type": "stream",
     "text": [
      "Mean of ID: 15.5\n",
      "Variance of ID: 77.5\n",
      "\n",
      "Mean of var1: 0.056666666666666664\n",
      "Variance of var1: 1.0646091954022991\n",
      "\n",
      "Mean of var2: 10.073333333333332\n",
      "Variance of var2: 3.3178850574712633\n",
      "\n",
      "Mean of var3: 10.166666666666666\n",
      "Variance of var3: 12.005747126436782\n",
      "\n"
     ]
    }
   ],
   "source": [
    "# Question 2: Calculate mean and variance of each column of df1\n",
    "for name in names(df1)\n",
    "    m = mean(df1[!, name])\n",
    "    v = var(df1[!, name])\n",
    "    println(\"Mean of $name: $m\")\n",
    "    println(\"Variance of $name: $v\")\n",
    "    println()\n",
    "end"
   ]
  },
  {
   "cell_type": "code",
   "execution_count": 35,
   "metadata": {},
   "outputs": [
    {
     "data": {
      "text/html": [
       "<div class=\"data-frame\"><p>20 rows × 4 columns</p><table class=\"data-frame\"><thead><tr><th></th><th>ID</th><th>var1</th><th>var2</th><th>var3</th></tr><tr><th></th><th title=\"Int64\">Int64</th><th title=\"Float64\">Float64</th><th title=\"Float64\">Float64</th><th title=\"Int64\">Int64</th></tr></thead><tbody><tr><th>1</th><td>11</td><td>-0.5</td><td>11.7</td><td>6</td></tr><tr><th>2</th><td>12</td><td>-2.1</td><td>9.3</td><td>10</td></tr><tr><th>3</th><td>13</td><td>0.3</td><td>11.4</td><td>5</td></tr><tr><th>4</th><td>14</td><td>1.1</td><td>12.1</td><td>15</td></tr><tr><th>5</th><td>15</td><td>-1.4</td><td>7.7</td><td>15</td></tr><tr><th>6</th><td>16</td><td>0.6</td><td>10.3</td><td>6</td></tr><tr><th>7</th><td>17</td><td>-0.7</td><td>7.9</td><td>12</td></tr><tr><th>8</th><td>18</td><td>0.7</td><td>12.4</td><td>8</td></tr><tr><th>9</th><td>19</td><td>-1.5</td><td>9.9</td><td>13</td></tr><tr><th>10</th><td>20</td><td>0.5</td><td>7.2</td><td>12</td></tr><tr><th>11</th><td>21</td><td>-0.2</td><td>8.9</td><td>7</td></tr><tr><th>12</th><td>22</td><td>-0.3</td><td>12.1</td><td>7</td></tr><tr><th>13</th><td>23</td><td>0.9</td><td>6.7</td><td>8</td></tr><tr><th>14</th><td>24</td><td>-0.6</td><td>12.0</td><td>12</td></tr><tr><th>15</th><td>25</td><td>0.7</td><td>12.1</td><td>13</td></tr><tr><th>16</th><td>26</td><td>0.3</td><td>10.4</td><td>7</td></tr><tr><th>17</th><td>27</td><td>-0.1</td><td>9.9</td><td>5</td></tr><tr><th>18</th><td>28</td><td>-0.3</td><td>7.6</td><td>11</td></tr><tr><th>19</th><td>29</td><td>1.1</td><td>8.2</td><td>13</td></tr><tr><th>20</th><td>30</td><td>1.3</td><td>12.6</td><td>5</td></tr></tbody></table></div>"
      ],
      "text/latex": [
       "\\begin{tabular}{r|cccc}\n",
       "\t& ID & var1 & var2 & var3\\\\\n",
       "\t\\hline\n",
       "\t& Int64 & Float64 & Float64 & Int64\\\\\n",
       "\t\\hline\n",
       "\t1 & 11 & -0.5 & 11.7 & 6 \\\\\n",
       "\t2 & 12 & -2.1 & 9.3 & 10 \\\\\n",
       "\t3 & 13 & 0.3 & 11.4 & 5 \\\\\n",
       "\t4 & 14 & 1.1 & 12.1 & 15 \\\\\n",
       "\t5 & 15 & -1.4 & 7.7 & 15 \\\\\n",
       "\t6 & 16 & 0.6 & 10.3 & 6 \\\\\n",
       "\t7 & 17 & -0.7 & 7.9 & 12 \\\\\n",
       "\t8 & 18 & 0.7 & 12.4 & 8 \\\\\n",
       "\t9 & 19 & -1.5 & 9.9 & 13 \\\\\n",
       "\t10 & 20 & 0.5 & 7.2 & 12 \\\\\n",
       "\t11 & 21 & -0.2 & 8.9 & 7 \\\\\n",
       "\t12 & 22 & -0.3 & 12.1 & 7 \\\\\n",
       "\t13 & 23 & 0.9 & 6.7 & 8 \\\\\n",
       "\t14 & 24 & -0.6 & 12.0 & 12 \\\\\n",
       "\t15 & 25 & 0.7 & 12.1 & 13 \\\\\n",
       "\t16 & 26 & 0.3 & 10.4 & 7 \\\\\n",
       "\t17 & 27 & -0.1 & 9.9 & 5 \\\\\n",
       "\t18 & 28 & -0.3 & 7.6 & 11 \\\\\n",
       "\t19 & 29 & 1.1 & 8.2 & 13 \\\\\n",
       "\t20 & 30 & 1.3 & 12.6 & 5 \\\\\n",
       "\\end{tabular}\n"
      ],
      "text/plain": [
       "\u001b[1m20×4 DataFrame\u001b[0m\n",
       "\u001b[1m Row \u001b[0m│\u001b[1m ID    \u001b[0m\u001b[1m var1    \u001b[0m\u001b[1m var2    \u001b[0m\u001b[1m var3  \u001b[0m\n",
       "\u001b[1m     \u001b[0m│\u001b[90m Int64 \u001b[0m\u001b[90m Float64 \u001b[0m\u001b[90m Float64 \u001b[0m\u001b[90m Int64 \u001b[0m\n",
       "─────┼────────────────────────────────\n",
       "   1 │    11     -0.5     11.7      6\n",
       "   2 │    12     -2.1      9.3     10\n",
       "   3 │    13      0.3     11.4      5\n",
       "   4 │    14      1.1     12.1     15\n",
       "   5 │    15     -1.4      7.7     15\n",
       "   6 │    16      0.6     10.3      6\n",
       "   7 │    17     -0.7      7.9     12\n",
       "   8 │    18      0.7     12.4      8\n",
       "  ⋮  │   ⋮       ⋮        ⋮       ⋮\n",
       "  14 │    24     -0.6     12.0     12\n",
       "  15 │    25      0.7     12.1     13\n",
       "  16 │    26      0.3     10.4      7\n",
       "  17 │    27     -0.1      9.9      5\n",
       "  18 │    28     -0.3      7.6     11\n",
       "  19 │    29      1.1      8.2     13\n",
       "  20 │    30      1.3     12.6      5\n",
       "\u001b[36m                        5 rows omitted\u001b[0m"
      ]
     },
     "metadata": {},
     "output_type": "display_data"
    }
   ],
   "source": [
    "# Question 3: Create a new dataframe named df2 from the last 20 rows of df1\n",
    "df2 = last(df1, 20)"
   ]
  },
  {
   "cell_type": "code",
   "execution_count": 36,
   "metadata": {},
   "outputs": [
    {
     "data": {
      "text/html": [
       "<div class=\"data-frame\"><p>4 rows × 7 columns</p><table class=\"data-frame\"><thead><tr><th></th><th>variable</th><th>mean</th><th>min</th><th>median</th><th>max</th><th>nmissing</th><th>eltype</th></tr><tr><th></th><th title=\"Symbol\">Symbol</th><th title=\"Float64\">Float64</th><th title=\"Real\">Real</th><th title=\"Float64\">Float64</th><th title=\"Real\">Real</th><th title=\"Int64\">Int64</th><th title=\"DataType\">DataType</th></tr></thead><tbody><tr><th>1</th><td>ID</td><td>20.5</td><td>11</td><td>20.5</td><td>30</td><td>0</td><td>Int64</td></tr><tr><th>2</th><td>var1</td><td>-0.01</td><td>-2.1</td><td>0.1</td><td>1.3</td><td>0</td><td>Float64</td></tr><tr><th>3</th><td>var2</td><td>10.02</td><td>6.7</td><td>10.1</td><td>12.6</td><td>0</td><td>Float64</td></tr><tr><th>4</th><td>var3</td><td>9.5</td><td>5</td><td>9.0</td><td>15</td><td>0</td><td>Int64</td></tr></tbody></table></div>"
      ],
      "text/latex": [
       "\\begin{tabular}{r|ccccccc}\n",
       "\t& variable & mean & min & median & max & nmissing & eltype\\\\\n",
       "\t\\hline\n",
       "\t& Symbol & Float64 & Real & Float64 & Real & Int64 & DataType\\\\\n",
       "\t\\hline\n",
       "\t1 & ID & 20.5 & 11 & 20.5 & 30 & 0 & Int64 \\\\\n",
       "\t2 & var1 & -0.01 & -2.1 & 0.1 & 1.3 & 0 & Float64 \\\\\n",
       "\t3 & var2 & 10.02 & 6.7 & 10.1 & 12.6 & 0 & Float64 \\\\\n",
       "\t4 & var3 & 9.5 & 5 & 9.0 & 15 & 0 & Int64 \\\\\n",
       "\\end{tabular}\n"
      ],
      "text/plain": [
       "\u001b[1m4×7 DataFrame\u001b[0m\n",
       "\u001b[1m Row \u001b[0m│\u001b[1m variable \u001b[0m\u001b[1m mean    \u001b[0m\u001b[1m min  \u001b[0m\u001b[1m median  \u001b[0m\u001b[1m max  \u001b[0m\u001b[1m nmissing \u001b[0m\u001b[1m eltype   \u001b[0m\n",
       "\u001b[1m     \u001b[0m│\u001b[90m Symbol   \u001b[0m\u001b[90m Float64 \u001b[0m\u001b[90m Real \u001b[0m\u001b[90m Float64 \u001b[0m\u001b[90m Real \u001b[0m\u001b[90m Int64    \u001b[0m\u001b[90m DataType \u001b[0m\n",
       "─────┼────────────────────────────────────────────────────────────\n",
       "   1 │ ID          20.5   11       20.5  30           0  Int64\n",
       "   2 │ var1        -0.01  -2.1      0.1   1.3         0  Float64\n",
       "   3 │ var2        10.02   6.7     10.1  12.6         0  Float64\n",
       "   4 │ var3         9.5    5        9.0  15           0  Int64"
      ]
     },
     "metadata": {},
     "output_type": "display_data"
    }
   ],
   "source": [
    "# Question 4: Calculate a simple descriptive statistics on df2 using the describe() function\n",
    "describe(df2)"
   ]
  },
  {
   "cell_type": "code",
   "execution_count": 51,
   "metadata": {},
   "outputs": [
    {
     "data": {
      "text/html": [
       "<div class=\"data-frame\"><p>30 rows × 5 columns</p><table class=\"data-frame\"><thead><tr><th></th><th>ID</th><th>var1</th><th>var2</th><th>var3</th><th>cat1</th></tr><tr><th></th><th title=\"Int64\">Int64</th><th title=\"Float64\">Float64</th><th title=\"Float64\">Float64</th><th title=\"Int64\">Int64</th><th title=\"String\">String</th></tr></thead><tbody><tr><th>1</th><td>1</td><td>0.1</td><td>10.6</td><td>8</td><td>GroupB</td></tr><tr><th>2</th><td>2</td><td>0.6</td><td>9.4</td><td>6</td><td>GroupA</td></tr><tr><th>3</th><td>3</td><td>-2.6</td><td>13.4</td><td>13</td><td>GroupB</td></tr><tr><th>4</th><td>4</td><td>0.3</td><td>9.3</td><td>14</td><td>GroupA</td></tr><tr><th>5</th><td>5</td><td>0.5</td><td>8.8</td><td>15</td><td>GroupA</td></tr><tr><th>6</th><td>6</td><td>-1.2</td><td>8.0</td><td>15</td><td>GroupA</td></tr><tr><th>7</th><td>7</td><td>0.8</td><td>9.6</td><td>13</td><td>GroupB</td></tr><tr><th>8</th><td>8</td><td>1.9</td><td>11.9</td><td>8</td><td>GroupB</td></tr><tr><th>9</th><td>9</td><td>0.6</td><td>10.6</td><td>10</td><td>GroupA</td></tr><tr><th>10</th><td>10</td><td>0.9</td><td>10.2</td><td>13</td><td>GroupA</td></tr><tr><th>11</th><td>11</td><td>-0.5</td><td>11.7</td><td>6</td><td>GroupA</td></tr><tr><th>12</th><td>12</td><td>-2.1</td><td>9.3</td><td>10</td><td>GroupB</td></tr><tr><th>13</th><td>13</td><td>0.3</td><td>11.4</td><td>5</td><td>GroupB</td></tr><tr><th>14</th><td>14</td><td>1.1</td><td>12.1</td><td>15</td><td>GroupB</td></tr><tr><th>15</th><td>15</td><td>-1.4</td><td>7.7</td><td>15</td><td>GroupB</td></tr><tr><th>16</th><td>16</td><td>0.6</td><td>10.3</td><td>6</td><td>GroupA</td></tr><tr><th>17</th><td>17</td><td>-0.7</td><td>7.9</td><td>12</td><td>GroupA</td></tr><tr><th>18</th><td>18</td><td>0.7</td><td>12.4</td><td>8</td><td>GroupA</td></tr><tr><th>19</th><td>19</td><td>-1.5</td><td>9.9</td><td>13</td><td>GroupA</td></tr><tr><th>20</th><td>20</td><td>0.5</td><td>7.2</td><td>12</td><td>GroupB</td></tr><tr><th>21</th><td>21</td><td>-0.2</td><td>8.9</td><td>7</td><td>GroupB</td></tr><tr><th>22</th><td>22</td><td>-0.3</td><td>12.1</td><td>7</td><td>GroupA</td></tr><tr><th>23</th><td>23</td><td>0.9</td><td>6.7</td><td>8</td><td>GroupB</td></tr><tr><th>24</th><td>24</td><td>-0.6</td><td>12.0</td><td>12</td><td>GroupA</td></tr><tr><th>&vellip;</th><td>&vellip;</td><td>&vellip;</td><td>&vellip;</td><td>&vellip;</td><td>&vellip;</td></tr></tbody></table></div>"
      ],
      "text/latex": [
       "\\begin{tabular}{r|ccccc}\n",
       "\t& ID & var1 & var2 & var3 & cat1\\\\\n",
       "\t\\hline\n",
       "\t& Int64 & Float64 & Float64 & Int64 & String\\\\\n",
       "\t\\hline\n",
       "\t1 & 1 & 0.1 & 10.6 & 8 & GroupB \\\\\n",
       "\t2 & 2 & 0.6 & 9.4 & 6 & GroupA \\\\\n",
       "\t3 & 3 & -2.6 & 13.4 & 13 & GroupB \\\\\n",
       "\t4 & 4 & 0.3 & 9.3 & 14 & GroupA \\\\\n",
       "\t5 & 5 & 0.5 & 8.8 & 15 & GroupA \\\\\n",
       "\t6 & 6 & -1.2 & 8.0 & 15 & GroupA \\\\\n",
       "\t7 & 7 & 0.8 & 9.6 & 13 & GroupB \\\\\n",
       "\t8 & 8 & 1.9 & 11.9 & 8 & GroupB \\\\\n",
       "\t9 & 9 & 0.6 & 10.6 & 10 & GroupA \\\\\n",
       "\t10 & 10 & 0.9 & 10.2 & 13 & GroupA \\\\\n",
       "\t11 & 11 & -0.5 & 11.7 & 6 & GroupA \\\\\n",
       "\t12 & 12 & -2.1 & 9.3 & 10 & GroupB \\\\\n",
       "\t13 & 13 & 0.3 & 11.4 & 5 & GroupB \\\\\n",
       "\t14 & 14 & 1.1 & 12.1 & 15 & GroupB \\\\\n",
       "\t15 & 15 & -1.4 & 7.7 & 15 & GroupB \\\\\n",
       "\t16 & 16 & 0.6 & 10.3 & 6 & GroupA \\\\\n",
       "\t17 & 17 & -0.7 & 7.9 & 12 & GroupA \\\\\n",
       "\t18 & 18 & 0.7 & 12.4 & 8 & GroupA \\\\\n",
       "\t19 & 19 & -1.5 & 9.9 & 13 & GroupA \\\\\n",
       "\t20 & 20 & 0.5 & 7.2 & 12 & GroupB \\\\\n",
       "\t21 & 21 & -0.2 & 8.9 & 7 & GroupB \\\\\n",
       "\t22 & 22 & -0.3 & 12.1 & 7 & GroupA \\\\\n",
       "\t23 & 23 & 0.9 & 6.7 & 8 & GroupB \\\\\n",
       "\t24 & 24 & -0.6 & 12.0 & 12 & GroupA \\\\\n",
       "\t$\\dots$ & $\\dots$ & $\\dots$ & $\\dots$ & $\\dots$ & $\\dots$ \\\\\n",
       "\\end{tabular}\n"
      ],
      "text/plain": [
       "\u001b[1m30×5 DataFrame\u001b[0m\n",
       "\u001b[1m Row \u001b[0m│\u001b[1m ID    \u001b[0m\u001b[1m var1    \u001b[0m\u001b[1m var2    \u001b[0m\u001b[1m var3  \u001b[0m\u001b[1m cat1   \u001b[0m\n",
       "\u001b[1m     \u001b[0m│\u001b[90m Int64 \u001b[0m\u001b[90m Float64 \u001b[0m\u001b[90m Float64 \u001b[0m\u001b[90m Int64 \u001b[0m\u001b[90m String \u001b[0m\n",
       "─────┼────────────────────────────────────────\n",
       "   1 │     1      0.1     10.6      8  GroupB\n",
       "   2 │     2      0.6      9.4      6  GroupA\n",
       "   3 │     3     -2.6     13.4     13  GroupB\n",
       "   4 │     4      0.3      9.3     14  GroupA\n",
       "   5 │     5      0.5      8.8     15  GroupA\n",
       "   6 │     6     -1.2      8.0     15  GroupA\n",
       "   7 │     7      0.8      9.6     13  GroupB\n",
       "   8 │     8      1.9     11.9      8  GroupB\n",
       "  ⋮  │   ⋮       ⋮        ⋮       ⋮      ⋮\n",
       "  24 │    24     -0.6     12.0     12  GroupA\n",
       "  25 │    25      0.7     12.1     13  GroupA\n",
       "  26 │    26      0.3     10.4      7  GroupB\n",
       "  27 │    27     -0.1      9.9      5  GroupB\n",
       "  28 │    28     -0.3      7.6     11  GroupA\n",
       "  29 │    29      1.1      8.2     13  GroupB\n",
       "  30 │    30      1.3     12.6      5  GroupA\n",
       "\u001b[36m                               15 rows omitted\u001b[0m"
      ]
     },
     "metadata": {},
     "output_type": "display_data"
    }
   ],
   "source": [
    "# Question 5: Add a column named cat1 to df2 consisting of a random selection of 20 values from the sample space \"GroupA\" and \"GroupB\"\n",
    "S = [\"GroupA\", \"GroupB\"]\n",
    "df1[!, \"cat1\"] = [sample(S) for i in 1:30]\n",
    "df1"
   ]
  },
  {
   "cell_type": "code",
   "execution_count": 53,
   "metadata": {},
   "outputs": [
    {
     "data": {
      "text/html": [
       "<div class=\"data-frame\"><p>20 rows × 3 columns</p><table class=\"data-frame\"><thead><tr><th></th><th>ID</th><th>var4</th><th>var5</th></tr><tr><th></th><th title=\"Int64\">Int64</th><th title=\"Int64\">Int64</th><th title=\"Int64\">Int64</th></tr></thead><tbody><tr><th>1</th><td>11</td><td>21</td><td>41</td></tr><tr><th>2</th><td>12</td><td>22</td><td>42</td></tr><tr><th>3</th><td>13</td><td>23</td><td>43</td></tr><tr><th>4</th><td>14</td><td>24</td><td>44</td></tr><tr><th>5</th><td>15</td><td>25</td><td>45</td></tr><tr><th>6</th><td>16</td><td>26</td><td>46</td></tr><tr><th>7</th><td>17</td><td>27</td><td>47</td></tr><tr><th>8</th><td>18</td><td>28</td><td>48</td></tr><tr><th>9</th><td>19</td><td>29</td><td>49</td></tr><tr><th>10</th><td>20</td><td>30</td><td>50</td></tr><tr><th>11</th><td>21</td><td>31</td><td>51</td></tr><tr><th>12</th><td>22</td><td>32</td><td>52</td></tr><tr><th>13</th><td>23</td><td>33</td><td>53</td></tr><tr><th>14</th><td>24</td><td>34</td><td>54</td></tr><tr><th>15</th><td>25</td><td>35</td><td>55</td></tr><tr><th>16</th><td>26</td><td>36</td><td>56</td></tr><tr><th>17</th><td>27</td><td>37</td><td>57</td></tr><tr><th>18</th><td>28</td><td>38</td><td>58</td></tr><tr><th>19</th><td>29</td><td>39</td><td>59</td></tr><tr><th>20</th><td>30</td><td>40</td><td>60</td></tr></tbody></table></div>"
      ],
      "text/latex": [
       "\\begin{tabular}{r|ccc}\n",
       "\t& ID & var4 & var5\\\\\n",
       "\t\\hline\n",
       "\t& Int64 & Int64 & Int64\\\\\n",
       "\t\\hline\n",
       "\t1 & 11 & 21 & 41 \\\\\n",
       "\t2 & 12 & 22 & 42 \\\\\n",
       "\t3 & 13 & 23 & 43 \\\\\n",
       "\t4 & 14 & 24 & 44 \\\\\n",
       "\t5 & 15 & 25 & 45 \\\\\n",
       "\t6 & 16 & 26 & 46 \\\\\n",
       "\t7 & 17 & 27 & 47 \\\\\n",
       "\t8 & 18 & 28 & 48 \\\\\n",
       "\t9 & 19 & 29 & 49 \\\\\n",
       "\t10 & 20 & 30 & 50 \\\\\n",
       "\t11 & 21 & 31 & 51 \\\\\n",
       "\t12 & 22 & 32 & 52 \\\\\n",
       "\t13 & 23 & 33 & 53 \\\\\n",
       "\t14 & 24 & 34 & 54 \\\\\n",
       "\t15 & 25 & 35 & 55 \\\\\n",
       "\t16 & 26 & 36 & 56 \\\\\n",
       "\t17 & 27 & 37 & 57 \\\\\n",
       "\t18 & 28 & 38 & 58 \\\\\n",
       "\t19 & 29 & 39 & 59 \\\\\n",
       "\t20 & 30 & 40 & 60 \\\\\n",
       "\\end{tabular}\n"
      ],
      "text/plain": [
       "\u001b[1m20×3 DataFrame\u001b[0m\n",
       "\u001b[1m Row \u001b[0m│\u001b[1m ID    \u001b[0m\u001b[1m var4  \u001b[0m\u001b[1m var5  \u001b[0m\n",
       "\u001b[1m     \u001b[0m│\u001b[90m Int64 \u001b[0m\u001b[90m Int64 \u001b[0m\u001b[90m Int64 \u001b[0m\n",
       "─────┼─────────────────────\n",
       "   1 │    11     21     41\n",
       "   2 │    12     22     42\n",
       "   3 │    13     23     43\n",
       "   4 │    14     24     44\n",
       "   5 │    15     25     45\n",
       "   6 │    16     26     46\n",
       "   7 │    17     27     47\n",
       "   8 │    18     28     48\n",
       "  ⋮  │   ⋮      ⋮      ⋮\n",
       "  14 │    24     34     54\n",
       "  15 │    25     35     55\n",
       "  16 │    26     36     56\n",
       "  17 │    27     37     57\n",
       "  18 │    28     38     58\n",
       "  19 │    29     39     59\n",
       "  20 │    30     40     60\n",
       "\u001b[36m             5 rows omitted\u001b[0m"
      ]
     },
     "metadata": {},
     "output_type": "display_data"
    }
   ],
   "source": [
    "# Question 6: Create a new dataframe df3 with columns named \"id\", \"var4\" and \"var5\"\n",
    "df3 = DataFrame(ID=11:30, var4=21:40, var5=41:60)"
   ]
  },
  {
   "cell_type": "code",
   "execution_count": 54,
   "metadata": {},
   "outputs": [
    {
     "data": {
      "text/html": [
       "<div class=\"data-frame\"><p>20 rows × 6 columns</p><table class=\"data-frame\"><thead><tr><th></th><th>ID</th><th>var1</th><th>var2</th><th>var3</th><th>var4</th><th>var5</th></tr><tr><th></th><th title=\"Int64\">Int64</th><th title=\"Float64\">Float64</th><th title=\"Float64\">Float64</th><th title=\"Int64\">Int64</th><th title=\"Int64\">Int64</th><th title=\"Int64\">Int64</th></tr></thead><tbody><tr><th>1</th><td>11</td><td>-0.5</td><td>11.7</td><td>6</td><td>21</td><td>41</td></tr><tr><th>2</th><td>12</td><td>-2.1</td><td>9.3</td><td>10</td><td>22</td><td>42</td></tr><tr><th>3</th><td>13</td><td>0.3</td><td>11.4</td><td>5</td><td>23</td><td>43</td></tr><tr><th>4</th><td>14</td><td>1.1</td><td>12.1</td><td>15</td><td>24</td><td>44</td></tr><tr><th>5</th><td>15</td><td>-1.4</td><td>7.7</td><td>15</td><td>25</td><td>45</td></tr><tr><th>6</th><td>16</td><td>0.6</td><td>10.3</td><td>6</td><td>26</td><td>46</td></tr><tr><th>7</th><td>17</td><td>-0.7</td><td>7.9</td><td>12</td><td>27</td><td>47</td></tr><tr><th>8</th><td>18</td><td>0.7</td><td>12.4</td><td>8</td><td>28</td><td>48</td></tr><tr><th>9</th><td>19</td><td>-1.5</td><td>9.9</td><td>13</td><td>29</td><td>49</td></tr><tr><th>10</th><td>20</td><td>0.5</td><td>7.2</td><td>12</td><td>30</td><td>50</td></tr><tr><th>11</th><td>21</td><td>-0.2</td><td>8.9</td><td>7</td><td>31</td><td>51</td></tr><tr><th>12</th><td>22</td><td>-0.3</td><td>12.1</td><td>7</td><td>32</td><td>52</td></tr><tr><th>13</th><td>23</td><td>0.9</td><td>6.7</td><td>8</td><td>33</td><td>53</td></tr><tr><th>14</th><td>24</td><td>-0.6</td><td>12.0</td><td>12</td><td>34</td><td>54</td></tr><tr><th>15</th><td>25</td><td>0.7</td><td>12.1</td><td>13</td><td>35</td><td>55</td></tr><tr><th>16</th><td>26</td><td>0.3</td><td>10.4</td><td>7</td><td>36</td><td>56</td></tr><tr><th>17</th><td>27</td><td>-0.1</td><td>9.9</td><td>5</td><td>37</td><td>57</td></tr><tr><th>18</th><td>28</td><td>-0.3</td><td>7.6</td><td>11</td><td>38</td><td>58</td></tr><tr><th>19</th><td>29</td><td>1.1</td><td>8.2</td><td>13</td><td>39</td><td>59</td></tr><tr><th>20</th><td>30</td><td>1.3</td><td>12.6</td><td>5</td><td>40</td><td>60</td></tr></tbody></table></div>"
      ],
      "text/latex": [
       "\\begin{tabular}{r|cccccc}\n",
       "\t& ID & var1 & var2 & var3 & var4 & var5\\\\\n",
       "\t\\hline\n",
       "\t& Int64 & Float64 & Float64 & Int64 & Int64 & Int64\\\\\n",
       "\t\\hline\n",
       "\t1 & 11 & -0.5 & 11.7 & 6 & 21 & 41 \\\\\n",
       "\t2 & 12 & -2.1 & 9.3 & 10 & 22 & 42 \\\\\n",
       "\t3 & 13 & 0.3 & 11.4 & 5 & 23 & 43 \\\\\n",
       "\t4 & 14 & 1.1 & 12.1 & 15 & 24 & 44 \\\\\n",
       "\t5 & 15 & -1.4 & 7.7 & 15 & 25 & 45 \\\\\n",
       "\t6 & 16 & 0.6 & 10.3 & 6 & 26 & 46 \\\\\n",
       "\t7 & 17 & -0.7 & 7.9 & 12 & 27 & 47 \\\\\n",
       "\t8 & 18 & 0.7 & 12.4 & 8 & 28 & 48 \\\\\n",
       "\t9 & 19 & -1.5 & 9.9 & 13 & 29 & 49 \\\\\n",
       "\t10 & 20 & 0.5 & 7.2 & 12 & 30 & 50 \\\\\n",
       "\t11 & 21 & -0.2 & 8.9 & 7 & 31 & 51 \\\\\n",
       "\t12 & 22 & -0.3 & 12.1 & 7 & 32 & 52 \\\\\n",
       "\t13 & 23 & 0.9 & 6.7 & 8 & 33 & 53 \\\\\n",
       "\t14 & 24 & -0.6 & 12.0 & 12 & 34 & 54 \\\\\n",
       "\t15 & 25 & 0.7 & 12.1 & 13 & 35 & 55 \\\\\n",
       "\t16 & 26 & 0.3 & 10.4 & 7 & 36 & 56 \\\\\n",
       "\t17 & 27 & -0.1 & 9.9 & 5 & 37 & 57 \\\\\n",
       "\t18 & 28 & -0.3 & 7.6 & 11 & 38 & 58 \\\\\n",
       "\t19 & 29 & 1.1 & 8.2 & 13 & 39 & 59 \\\\\n",
       "\t20 & 30 & 1.3 & 12.6 & 5 & 40 & 60 \\\\\n",
       "\\end{tabular}\n"
      ],
      "text/plain": [
       "\u001b[1m20×6 DataFrame\u001b[0m\n",
       "\u001b[1m Row \u001b[0m│\u001b[1m ID    \u001b[0m\u001b[1m var1    \u001b[0m\u001b[1m var2    \u001b[0m\u001b[1m var3  \u001b[0m\u001b[1m var4  \u001b[0m\u001b[1m var5  \u001b[0m\n",
       "\u001b[1m     \u001b[0m│\u001b[90m Int64 \u001b[0m\u001b[90m Float64 \u001b[0m\u001b[90m Float64 \u001b[0m\u001b[90m Int64 \u001b[0m\u001b[90m Int64 \u001b[0m\u001b[90m Int64 \u001b[0m\n",
       "─────┼──────────────────────────────────────────────\n",
       "   1 │    11     -0.5     11.7      6     21     41\n",
       "   2 │    12     -2.1      9.3     10     22     42\n",
       "   3 │    13      0.3     11.4      5     23     43\n",
       "   4 │    14      1.1     12.1     15     24     44\n",
       "   5 │    15     -1.4      7.7     15     25     45\n",
       "   6 │    16      0.6     10.3      6     26     46\n",
       "   7 │    17     -0.7      7.9     12     27     47\n",
       "   8 │    18      0.7     12.4      8     28     48\n",
       "  ⋮  │   ⋮       ⋮        ⋮       ⋮      ⋮      ⋮\n",
       "  14 │    24     -0.6     12.0     12     34     54\n",
       "  15 │    25      0.7     12.1     13     35     55\n",
       "  16 │    26      0.3     10.4      7     36     56\n",
       "  17 │    27     -0.1      9.9      5     37     57\n",
       "  18 │    28     -0.3      7.6     11     38     58\n",
       "  19 │    29      1.1      8.2     13     39     59\n",
       "  20 │    30      1.3     12.6      5     40     60\n",
       "\u001b[36m                                      5 rows omitted\u001b[0m"
      ]
     },
     "metadata": {},
     "output_type": "display_data"
    }
   ],
   "source": [
    "# Question 7: Join df2 and df3 on the ID column and save the results as a new dataframe named df4 (hint: you can use innerjoin).\n",
    "innerjoin(df2, df3, on = :ID)"
   ]
  },
  {
   "cell_type": "code",
   "execution_count": null,
   "metadata": {},
   "outputs": [],
   "source": []
  }
 ],
 "metadata": {
  "kernelspec": {
   "display_name": "Julia 1.7.2",
   "language": "julia",
   "name": "julia-1.7"
  },
  "language_info": {
   "file_extension": ".jl",
   "mimetype": "application/julia",
   "name": "julia",
   "version": "1.7.2"
  }
 },
 "nbformat": 4,
 "nbformat_minor": 1
}
