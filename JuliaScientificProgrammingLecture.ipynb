{
 "cells": [
  {
   "cell_type": "markdown",
   "metadata": {},
   "source": [
    "# Julia Scientific Programming\n",
    "This is a course provided by the University of Cape Town on Coursera."
   ]
  },
  {
   "cell_type": "markdown",
   "metadata": {},
   "source": [
    "## Some technical aspects of Julia\n",
    "### Julia is strongly typed and dynamic\n",
    "\n",
    "This combination is unique to Julia. Dynamic languages (\"write code and it runs directly\") like Python and Matlab tend to be easy to learn and the programs written in them tend to quite short. Up to now, such languages have only used fairly simple type systems, which meant the programs could not be optimised to make the best possible use of processor capacity.\n",
    "\n",
    "It is the strong and very detailed type system that allows Julia code to run (almost) as fast as C.\n",
    "\n",
    "* Julia functions have multiple dispatch\n",
    "* Julia supports parallel programming, is concurrent and has a data model suitable for huge data sets\n",
    "* Julia interfaces particularly well with other languages, which include a nearly-native way of using Python code in Julia and vice versa\n",
    "\n",
    "In this course we mainly program in a Jupyter notebook."
   ]
  },
  {
   "cell_type": "code",
   "execution_count": null,
   "metadata": {},
   "outputs": [],
   "source": []
  },
  {
   "cell_type": "code",
   "execution_count": null,
   "metadata": {},
   "outputs": [],
   "source": []
  },
  {
   "cell_type": "code",
   "execution_count": null,
   "metadata": {},
   "outputs": [],
   "source": []
  },
  {
   "cell_type": "code",
   "execution_count": null,
   "metadata": {},
   "outputs": [],
   "source": []
  },
  {
   "cell_type": "code",
   "execution_count": null,
   "metadata": {},
   "outputs": [],
   "source": []
  },
  {
   "cell_type": "code",
   "execution_count": null,
   "metadata": {},
   "outputs": [],
   "source": []
  }
 ],
 "metadata": {
  "kernelspec": {
   "display_name": "Julia 1.7.1",
   "language": "julia",
   "name": "julia-1.7"
  },
  "language_info": {
   "file_extension": ".jl",
   "mimetype": "application/julia",
   "name": "julia",
   "version": "1.7.1"
  },
  "orig_nbformat": 4
 },
 "nbformat": 4,
 "nbformat_minor": 2
}
