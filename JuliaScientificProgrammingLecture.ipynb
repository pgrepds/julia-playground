{
 "cells": [
  {
   "cell_type": "markdown",
   "metadata": {},
   "source": [
    "# Julia Scientific Programming\n",
    "This is a course provided by the University of Cape Town on Coursera."
   ]
  },
  {
   "cell_type": "markdown",
   "metadata": {},
   "source": [
    "The whole course as well as this notebook is published under the Creative Commons Zero v1.0 Universal license. The license text can be found in the last markdown cell at the very end of this document."
   ]
  },
  {
   "cell_type": "markdown",
   "metadata": {},
   "source": [
    "## Some technical aspects of Julia\n",
    "### Julia is strongly typed and dynamic\n",
    "\n",
    "This combination is unique to Julia. Dynamic languages (\"write code and it runs directly\") like Python and Matlab tend to be easy to learn and the programs written in them tend to quite short. Up to now, such languages have only used fairly simple type systems, which meant the programs could not be optimised to make the best possible use of processor capacity.\n",
    "\n",
    "It is the strong and very detailed type system that allows Julia code to run (almost) as fast as C.\n",
    "\n",
    "* Julia functions have multiple dispatch\n",
    "* Julia supports parallel programming, is concurrent and has a data model suitable for huge data sets\n",
    "* Julia interfaces particularly well with other languages, which include a nearly-native way of using Python code in Julia and vice versa\n",
    "\n",
    "In this course we mainly program in a Jupyter notebook."
   ]
  },
  {
   "cell_type": "code",
   "execution_count": 1,
   "metadata": {},
   "outputs": [
    {
     "data": {
      "text/plain": [
       "2"
      ]
     },
     "metadata": {},
     "output_type": "display_data"
    }
   ],
   "source": [
    "# Basic Arithmetic\n",
    "1+1"
   ]
  },
  {
   "cell_type": "code",
   "execution_count": 2,
   "metadata": {},
   "outputs": [
    {
     "data": {
      "text/plain": [
       "4038048"
      ]
     },
     "metadata": {},
     "output_type": "display_data"
    }
   ],
   "source": [
    "2003 * 2016"
   ]
  },
  {
   "cell_type": "markdown",
   "metadata": {},
   "source": [
    "Note that the elementary arithmetic operators are `+`, `-`, `*`, `/` and `^`. Parentheses should be used when there is any possibility of more than one interpretation."
   ]
  },
  {
   "cell_type": "markdown",
   "metadata": {},
   "source": [
    "Julia is like an interpreted language. What do we mean by that? The moment we complete a line of code, it gets executed. Python and Mathematica are interpreted languages. This is the opposite of compiled languages like C and Fortran. There, the code has to be compiled before it is run. However, Julia doesn't keep an interpreter running. Instead, it uses just-in-time compilation to compile tiny bits of code and then run them. Usually, the effect is very similar to what an interpreter would be doing. It is also possible to compile a whole program as a free-standing application and call it in Python, for example.\n",
    "\n",
    "Julia consists of a very basic core, written in C, and the Base package, mostly written in Julia, and many extensions, some of them written in other languages but mostly written in Julia.\n",
    "\n",
    "An extensions is called `package` in Julia.\n",
    "\n",
    "We can add an extension by executing the following code, either in a Julia cell or via the Julia command line (terminal sesseion and run `julia`).\n",
    "\n",
    "```\n",
    "Pkg.add('...')\n",
    "using ...\n",
    "```"
   ]
  },
  {
   "cell_type": "markdown",
   "metadata": {},
   "source": [
    "## The Julia REPL - Read, Evaluate and Print Loop\n",
    "\n",
    "The basic process in Julia is the REPL, which stands for Read-Evaluate-Print Loop. Every time we take a step in Julia (run a cell in our notebook) we run through this loop.\n"
   ]
  },
  {
   "cell_type": "code",
   "execution_count": 3,
   "metadata": {},
   "outputs": [
    {
     "name": "stdout",
     "output_type": "stream",
     "text": [
      "Hello, world!\n"
     ]
    }
   ],
   "source": [
    "println(\"Hello, world!\")"
   ]
  },
  {
   "cell_type": "markdown",
   "metadata": {},
   "source": [
    "The word \"println\" is the name of the function, and it points to the code that the function uses to do its work. It is one of Julia's built-in functions.\n",
    "\n",
    "The parentheses `()` is how Julia knows that it is dealing with functions. We need to be careful since there are many different delimiters in Julia. Julia uses `[]` which we call brackets, and `{}`, which we call braces.\n",
    "\n",
    "In Julia, strings are immutable. We can use some part of a string, we can put strings together -- but we cannot actually change a string."
   ]
  },
  {
   "cell_type": "code",
   "execution_count": 4,
   "metadata": {},
   "outputs": [
    {
     "name": "stdout",
     "output_type": "stream",
     "text": [
      "20 ... evaluated\n"
     ]
    }
   ],
   "source": [
    "println(5+15, \" ... evaluated\") # we can mix numbers and strings"
   ]
  },
  {
   "cell_type": "code",
   "execution_count": 7,
   "metadata": {},
   "outputs": [
    {
     "name": "stdout",
     "output_type": "stream",
     "text": [
      "Hello, world\n"
     ]
    }
   ],
   "source": [
    "println(\"Hello,\" * \" world\") # we can combine strings using *"
   ]
  },
  {
   "cell_type": "code",
   "execution_count": 8,
   "metadata": {},
   "outputs": [
    {
     "name": "stdout",
     "output_type": "stream",
     "text": [
      "Hello, world!Hello, world!Hello, world!Hello, world!Hello, world!Hello, world!\n"
     ]
    }
   ],
   "source": [
    "println(\"Hello, world!\"^6) # we can repeat string using ^"
   ]
  },
  {
   "cell_type": "markdown",
   "metadata": {},
   "source": [
    "REPL is a feature of dynamic languages such as Julia, Python and Mathematica. Using the acronym REPL just emphasises that a dynamic language continually stands ready to execute one more line of code.\n",
    "\n",
    "Calling the manual for certain functionalities is easily done using `?`. It does not seem to work in VSCode, though."
   ]
  },
  {
   "cell_type": "markdown",
   "metadata": {},
   "source": [
    "## Arithmetical expressions"
   ]
  },
  {
   "cell_type": "code",
   "execution_count": 12,
   "metadata": {},
   "outputs": [
    {
     "data": {
      "text/plain": [
       "-2"
      ]
     },
     "metadata": {},
     "output_type": "display_data"
    }
   ],
   "source": [
    "1 - 2 + 3 - 4"
   ]
  },
  {
   "cell_type": "code",
   "execution_count": 13,
   "metadata": {},
   "outputs": [
    {
     "data": {
      "text/plain": [
       "1.25"
      ]
     },
     "metadata": {},
     "output_type": "display_data"
    }
   ],
   "source": [
    "1 / 2 + 3 / 4"
   ]
  },
  {
   "cell_type": "code",
   "execution_count": 14,
   "metadata": {},
   "outputs": [
    {
     "data": {
      "text/plain": [
       "0.05"
      ]
     },
     "metadata": {},
     "output_type": "display_data"
    }
   ],
   "source": [
    "1 / (2 + 3) / 4"
   ]
  },
  {
   "cell_type": "code",
   "execution_count": 15,
   "metadata": {},
   "outputs": [
    {
     "data": {
      "text/plain": [
       "0.36363636363636365"
      ]
     },
     "metadata": {},
     "output_type": "display_data"
    }
   ],
   "source": [
    "1 / (2 + 3 / 4)"
   ]
  },
  {
   "cell_type": "code",
   "execution_count": 16,
   "metadata": {},
   "outputs": [
    {
     "data": {
      "text/plain": [
       "0.875"
      ]
     },
     "metadata": {},
     "output_type": "display_data"
    }
   ],
   "source": [
    "(1 / 2 + 3) / 4"
   ]
  },
  {
   "cell_type": "markdown",
   "metadata": {},
   "source": [
    "### Operator Precedence in Julia\n",
    "\n",
    "The plus, minus, multiply and divide operators are, of course the usual arithmetical operations.\n",
    "\n",
    "When several of them occur, it can be ambiguous to the human eye. In Julia, though, there is only one way to read an expression: from the left.\n",
    "\n",
    "Likewise, from the left 2-3+3 is 3, from the right it is -5, and in Julia it can only be 3.\n",
    "\n",
    "But it isn't simply always left-to-right. In Julia there are operators that have an higher priority."
   ]
  },
  {
   "cell_type": "code",
   "execution_count": 17,
   "metadata": {},
   "outputs": [
    {
     "name": "stdout",
     "output_type": "stream",
     "text": [
      "0.2222222222222222\n"
     ]
    }
   ],
   "source": [
    "println(2/3^2) # although the / occurs to the left of the ^, the latter is evaluated first. This is because some operators come higher in the order of precedence than others."
   ]
  },
  {
   "cell_type": "markdown",
   "metadata": {},
   "source": [
    "In Julia, as in many languages (such as Python or Mathematica), the order of arithmetical operations is as follows.\n",
    "\n",
    "* do the insides of parentheses first\n",
    "* then do exponentiation\n",
    "* then do multiplication and division, from left to right\n",
    "* finally, do addition and subtraction, from the left to right"
   ]
  },
  {
   "cell_type": "code",
   "execution_count": 18,
   "metadata": {},
   "outputs": [
    {
     "data": {
      "text/plain": [
       "-11.725000000000001"
      ]
     },
     "metadata": {},
     "output_type": "display_data"
    }
   ],
   "source": [
    "0.2 + 0.1 - 3 * 6.7 / 4 -1 - 2 * 3 # BAD CODE! It mixes types: some Int64, some Float64!"
   ]
  },
  {
   "cell_type": "markdown",
   "metadata": {},
   "source": [
    "In the above example, we are mixing types! In the above example, we are mixing Int64 and Float64. It slows Julia down.\n",
    "\n",
    "Notice, that the exponentiation operator is different from the other four, however: when several of them are stacked together, they operate right to left."
   ]
  },
  {
   "cell_type": "code",
   "execution_count": 19,
   "metadata": {},
   "outputs": [
    {
     "data": {
      "text/plain": [
       "6561"
      ]
     },
     "metadata": {},
     "output_type": "display_data"
    }
   ],
   "source": [
    "3^2^3 # exponentiation right-to-left is the Julia convention"
   ]
  },
  {
   "cell_type": "code",
   "execution_count": 20,
   "metadata": {},
   "outputs": [
    {
     "data": {
      "text/plain": [
       "729"
      ]
     },
     "metadata": {},
     "output_type": "display_data"
    }
   ],
   "source": [
    "(3^2)^3 # forcing left-to-right using parentheses"
   ]
  },
  {
   "cell_type": "markdown",
   "metadata": {},
   "source": [
    "Here the `3^2^3` is of course $3^{2^{3}}$ and standard mathematical conventions say this is the same as $3^{(2^{3})}$. That is, a stack of exponents is evaluated from top to bottom. This is equivalent writing the stack on one line, upper one to right, and evaluating them right-to-left."
   ]
  },
  {
   "cell_type": "markdown",
   "metadata": {},
   "source": [
    "## Logical Expressions\n",
    "\n",
    "Logic is the study of how to transform true sentences into other true sentences.\n",
    "\n",
    "Famous example 1: Socrates is a man. All men are mortal. Therefore Socrates is mortal.\n",
    "\n",
    "Famous example 2: If it rains, the grass is wet. It is raining. Therefore the grass is wet.\n",
    "\n",
    "This rigid and formal way of working may appear to be inadequate, but computer programs cannot do otherwise. In fact, computer logic is even more limited than the famous examples above. It can only evaluate logical expressions.\n",
    "\n",
    "In Julia, there are only two logical values: `true` and `false`. They are Julia language reserved words, which means their meaning is fixed and they can be used for no other purpose. The meaning they have in Julia is pretty much the meaning they have in ordinary human life.\n",
    "\n",
    "Julia has quite a few logical operators (as do computer languages in general). But three of them are more important than the rest.\n",
    "\n",
    "* `!` is the NOT operator\n",
    "* `&&` is the AND operator\n",
    "* `||` is the OR operator"
   ]
  },
  {
   "cell_type": "code",
   "execution_count": 21,
   "metadata": {},
   "outputs": [
    {
     "data": {
      "text/plain": [
       "false"
      ]
     },
     "metadata": {},
     "output_type": "display_data"
    }
   ],
   "source": [
    "!true"
   ]
  },
  {
   "cell_type": "code",
   "execution_count": 22,
   "metadata": {},
   "outputs": [
    {
     "data": {
      "text/plain": [
       "true"
      ]
     },
     "metadata": {},
     "output_type": "display_data"
    }
   ],
   "source": [
    "!false"
   ]
  },
  {
   "cell_type": "code",
   "execution_count": 23,
   "metadata": {},
   "outputs": [
    {
     "data": {
      "text/plain": [
       "true"
      ]
     },
     "metadata": {},
     "output_type": "display_data"
    }
   ],
   "source": [
    "true && true"
   ]
  },
  {
   "cell_type": "code",
   "execution_count": 24,
   "metadata": {},
   "outputs": [
    {
     "data": {
      "text/plain": [
       "false"
      ]
     },
     "metadata": {},
     "output_type": "display_data"
    }
   ],
   "source": [
    "true && false "
   ]
  },
  {
   "cell_type": "code",
   "execution_count": 25,
   "metadata": {},
   "outputs": [
    {
     "data": {
      "text/plain": [
       "true"
      ]
     },
     "metadata": {},
     "output_type": "display_data"
    }
   ],
   "source": [
    "true || true"
   ]
  },
  {
   "cell_type": "code",
   "execution_count": 26,
   "metadata": {},
   "outputs": [
    {
     "data": {
      "text/plain": [
       "true"
      ]
     },
     "metadata": {},
     "output_type": "display_data"
    }
   ],
   "source": [
    "true || false"
   ]
  },
  {
   "cell_type": "code",
   "execution_count": 27,
   "metadata": {},
   "outputs": [
    {
     "data": {
      "text/plain": [
       "true"
      ]
     },
     "metadata": {},
     "output_type": "display_data"
    }
   ],
   "source": [
    "1 < 22"
   ]
  },
  {
   "cell_type": "code",
   "execution_count": 28,
   "metadata": {},
   "outputs": [
    {
     "data": {
      "text/plain": [
       "true"
      ]
     },
     "metadata": {},
     "output_type": "display_data"
    }
   ],
   "source": [
    "2 == 4-2"
   ]
  },
  {
   "cell_type": "code",
   "execution_count": 29,
   "metadata": {},
   "outputs": [
    {
     "data": {
      "text/plain": [
       "false"
      ]
     },
     "metadata": {},
     "output_type": "display_data"
    }
   ],
   "source": [
    "-10 > 3"
   ]
  },
  {
   "cell_type": "markdown",
   "metadata": {},
   "source": [
    "### Operator precedence for logical expressions\n",
    "\n",
    "If we write computer code, we will often have to construct logical expressions very similar to the example given above.  \n",
    "As before, in Julia, an expression can mean only one thing. In this case, logical operators are again evaluated from left to right.\n",
    "However, arithmetic operators have higher precedence than logical operators: comparisons.\n",
    "\n",
    "The operators `&&` and `||` are Boolean operators: they work on expressions that are true or false. But there are two more operators, not covered in this course, namely `&` and `|`. Quite often, if we use `&` where intend `&&`, we will get an error message BUT it can also happen that a useful result appears despite the wrong operator. \n",
    "\n",
    "`&` is the bitwise AND operator and works on pairs of integers (actually, on the integers expressed in binary digits). Similarly, `|` is bitwise OR and likewise works on integer values expressed in bit form."
   ]
  },
  {
   "cell_type": "code",
   "execution_count": null,
   "metadata": {},
   "outputs": [],
   "source": []
  },
  {
   "cell_type": "code",
   "execution_count": null,
   "metadata": {},
   "outputs": [],
   "source": []
  },
  {
   "cell_type": "code",
   "execution_count": null,
   "metadata": {},
   "outputs": [],
   "source": []
  },
  {
   "cell_type": "code",
   "execution_count": null,
   "metadata": {},
   "outputs": [],
   "source": []
  },
  {
   "cell_type": "code",
   "execution_count": null,
   "metadata": {},
   "outputs": [],
   "source": []
  },
  {
   "cell_type": "code",
   "execution_count": null,
   "metadata": {},
   "outputs": [],
   "source": []
  },
  {
   "cell_type": "code",
   "execution_count": null,
   "metadata": {},
   "outputs": [],
   "source": []
  },
  {
   "cell_type": "code",
   "execution_count": null,
   "metadata": {},
   "outputs": [],
   "source": []
  },
  {
   "cell_type": "code",
   "execution_count": null,
   "metadata": {},
   "outputs": [],
   "source": []
  },
  {
   "cell_type": "code",
   "execution_count": null,
   "metadata": {},
   "outputs": [],
   "source": []
  },
  {
   "cell_type": "code",
   "execution_count": null,
   "metadata": {},
   "outputs": [],
   "source": []
  },
  {
   "cell_type": "code",
   "execution_count": null,
   "metadata": {},
   "outputs": [],
   "source": []
  },
  {
   "cell_type": "code",
   "execution_count": null,
   "metadata": {},
   "outputs": [],
   "source": []
  },
  {
   "cell_type": "code",
   "execution_count": null,
   "metadata": {},
   "outputs": [],
   "source": []
  },
  {
   "cell_type": "code",
   "execution_count": null,
   "metadata": {},
   "outputs": [],
   "source": []
  },
  {
   "cell_type": "code",
   "execution_count": null,
   "metadata": {},
   "outputs": [],
   "source": []
  },
  {
   "cell_type": "code",
   "execution_count": null,
   "metadata": {},
   "outputs": [],
   "source": []
  },
  {
   "cell_type": "code",
   "execution_count": null,
   "metadata": {},
   "outputs": [],
   "source": []
  },
  {
   "cell_type": "code",
   "execution_count": null,
   "metadata": {},
   "outputs": [],
   "source": []
  },
  {
   "cell_type": "markdown",
   "metadata": {},
   "source": [
    "Creative Commons Zero v1.0 Universal\n",
    "\n",
    "The Creative Commons CC0 Public Domain Dedication waives copyright interest in a work you've created and dedicates it to the world-wide public domain. Use CC0 to opt out of copyright entirely and ensure your work has the widest reach. As with the Unlicense and typical software licenses, CC0 disclaims warranties. CC0 is very similar to the Unlicense.\n",
    "Permissions\n",
    "\n",
    "Commercial use\n",
    "Modification\n",
    "Distribution\n",
    "\n",
    "    Private use\n",
    "\n",
    "Limitations\n",
    "\n",
    "Liability\n",
    "Trademark use\n",
    "Patent use\n",
    "\n",
    "    Warranty\n",
    "\n",
    "Conditions\n",
    "\n",
    "This is not legal advice. Learn more about repository licenses.\n",
    "@pgrepds\n",
    "pgrepds Initial commit\n",
    "Latest commit e5e3bba 12 days ago\n",
    "History\n",
    "1 contributor\n",
    "121 lines (109 sloc) 6.88 KB\n",
    "Creative Commons Legal Code\n",
    "\n",
    "CC0 1.0 Universal\n",
    "\n",
    "    CREATIVE COMMONS CORPORATION IS NOT A LAW FIRM AND DOES NOT PROVIDE\n",
    "    LEGAL SERVICES. DISTRIBUTION OF THIS DOCUMENT DOES NOT CREATE AN\n",
    "    ATTORNEY-CLIENT RELATIONSHIP. CREATIVE COMMONS PROVIDES THIS\n",
    "    INFORMATION ON AN \"AS-IS\" BASIS. CREATIVE COMMONS MAKES NO WARRANTIES\n",
    "    REGARDING THE USE OF THIS DOCUMENT OR THE INFORMATION OR WORKS\n",
    "    PROVIDED HEREUNDER, AND DISCLAIMS LIABILITY FOR DAMAGES RESULTING FROM\n",
    "    THE USE OF THIS DOCUMENT OR THE INFORMATION OR WORKS PROVIDED\n",
    "    HEREUNDER.\n",
    "\n",
    "Statement of Purpose\n",
    "\n",
    "The laws of most jurisdictions throughout the world automatically confer\n",
    "exclusive Copyright and Related Rights (defined below) upon the creator\n",
    "and subsequent owner(s) (each and all, an \"owner\") of an original work of\n",
    "authorship and/or a database (each, a \"Work\").\n",
    "\n",
    "Certain owners wish to permanently relinquish those rights to a Work for\n",
    "the purpose of contributing to a commons of creative, cultural and\n",
    "scientific works (\"Commons\") that the public can reliably and without fear\n",
    "of later claims of infringement build upon, modify, incorporate in other\n",
    "works, reuse and redistribute as freely as possible in any form whatsoever\n",
    "and for any purposes, including without limitation commercial purposes.\n",
    "These owners may contribute to the Commons to promote the ideal of a free\n",
    "culture and the further production of creative, cultural and scientific\n",
    "works, or to gain reputation or greater distribution for their Work in\n",
    "part through the use and efforts of others.\n",
    "\n",
    "For these and/or other purposes and motivations, and without any\n",
    "expectation of additional consideration or compensation, the person\n",
    "associating CC0 with a Work (the \"Affirmer\"), to the extent that he or she\n",
    "is an owner of Copyright and Related Rights in the Work, voluntarily\n",
    "elects to apply CC0 to the Work and publicly distribute the Work under its\n",
    "terms, with knowledge of his or her Copyright and Related Rights in the\n",
    "Work and the meaning and intended legal effect of CC0 on those rights.\n",
    "\n",
    "1. Copyright and Related Rights. A Work made available under CC0 may be\n",
    "protected by copyright and related or neighboring rights (\"Copyright and\n",
    "Related Rights\"). Copyright and Related Rights include, but are not\n",
    "limited to, the following:\n",
    "\n",
    "  i. the right to reproduce, adapt, distribute, perform, display,\n",
    "     communicate, and translate a Work;\n",
    " ii. moral rights retained by the original author(s) and/or performer(s);\n",
    "iii. publicity and privacy rights pertaining to a person's image or\n",
    "     likeness depicted in a Work;\n",
    " iv. rights protecting against unfair competition in regards to a Work,\n",
    "     subject to the limitations in paragraph 4(a), below;\n",
    "  v. rights protecting the extraction, dissemination, use and reuse of data\n",
    "     in a Work;\n",
    " vi. database rights (such as those arising under Directive 96/9/EC of the\n",
    "     European Parliament and of the Council of 11 March 1996 on the legal\n",
    "     protection of databases, and under any national implementation\n",
    "     thereof, including any amended or successor version of such\n",
    "     directive); and\n",
    "vii. other similar, equivalent or corresponding rights throughout the\n",
    "     world based on applicable law or treaty, and any national\n",
    "     implementations thereof.\n",
    "\n",
    "2. Waiver. To the greatest extent permitted by, but not in contravention\n",
    "of, applicable law, Affirmer hereby overtly, fully, permanently,\n",
    "irrevocably and unconditionally waives, abandons, and surrenders all of\n",
    "Affirmer's Copyright and Related Rights and associated claims and causes\n",
    "of action, whether now known or unknown (including existing as well as\n",
    "future claims and causes of action), in the Work (i) in all territories\n",
    "worldwide, (ii) for the maximum duration provided by applicable law or\n",
    "treaty (including future time extensions), (iii) in any current or future\n",
    "medium and for any number of copies, and (iv) for any purpose whatsoever,\n",
    "including without limitation commercial, advertising or promotional\n",
    "purposes (the \"Waiver\"). Affirmer makes the Waiver for the benefit of each\n",
    "member of the public at large and to the detriment of Affirmer's heirs and\n",
    "successors, fully intending that such Waiver shall not be subject to\n",
    "revocation, rescission, cancellation, termination, or any other legal or\n",
    "equitable action to disrupt the quiet enjoyment of the Work by the public\n",
    "as contemplated by Affirmer's express Statement of Purpose.\n",
    "\n",
    "3. Public License Fallback. Should any part of the Waiver for any reason\n",
    "be judged legally invalid or ineffective under applicable law, then the\n",
    "Waiver shall be preserved to the maximum extent permitted taking into\n",
    "account Affirmer's express Statement of Purpose. In addition, to the\n",
    "extent the Waiver is so judged Affirmer hereby grants to each affected\n",
    "person a royalty-free, non transferable, non sublicensable, non exclusive,\n",
    "irrevocable and unconditional license to exercise Affirmer's Copyright and\n",
    "Related Rights in the Work (i) in all territories worldwide, (ii) for the\n",
    "maximum duration provided by applicable law or treaty (including future\n",
    "time extensions), (iii) in any current or future medium and for any number\n",
    "of copies, and (iv) for any purpose whatsoever, including without\n",
    "limitation commercial, advertising or promotional purposes (the\n",
    "\"License\"). The License shall be deemed effective as of the date CC0 was\n",
    "applied by Affirmer to the Work. Should any part of the License for any\n",
    "reason be judged legally invalid or ineffective under applicable law, such\n",
    "partial invalidity or ineffectiveness shall not invalidate the remainder\n",
    "of the License, and in such case Affirmer hereby affirms that he or she\n",
    "will not (i) exercise any of his or her remaining Copyright and Related\n",
    "Rights in the Work or (ii) assert any associated claims and causes of\n",
    "action with respect to the Work, in either case contrary to Affirmer's\n",
    "express Statement of Purpose.\n",
    "\n",
    "4. Limitations and Disclaimers.\n",
    "\n",
    " a. No trademark or patent rights held by Affirmer are waived, abandoned,\n",
    "    surrendered, licensed or otherwise affected by this document.\n",
    " b. Affirmer offers the Work as-is and makes no representations or\n",
    "    warranties of any kind concerning the Work, express, implied,\n",
    "    statutory or otherwise, including without limitation warranties of\n",
    "    title, merchantability, fitness for a particular purpose, non\n",
    "    infringement, or the absence of latent or other defects, accuracy, or\n",
    "    the present or absence of errors, whether or not discoverable, all to\n",
    "    the greatest extent permissible under applicable law.\n",
    " c. Affirmer disclaims responsibility for clearing rights of other persons\n",
    "    that may apply to the Work or any use thereof, including without\n",
    "    limitation any person's Copyright and Related Rights in the Work.\n",
    "    Further, Affirmer disclaims responsibility for obtaining any necessary\n",
    "    consents, permissions or other rights required for any use of the\n",
    "    Work.\n",
    " d. Affirmer understands and acknowledges that Creative Commons is not a\n",
    "    party to this document and has no duty or obligation with respect to\n",
    "    this CC0 or use of the Work."
   ]
  }
 ],
 "metadata": {
  "kernelspec": {
   "display_name": "Julia 1.7.1",
   "language": "julia",
   "name": "julia-1.7"
  },
  "language_info": {
   "file_extension": ".jl",
   "mimetype": "application/julia",
   "name": "julia",
   "version": "1.7.1"
  },
  "orig_nbformat": 4
 },
 "nbformat": 4,
 "nbformat_minor": 2
}
