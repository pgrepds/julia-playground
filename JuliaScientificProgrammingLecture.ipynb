{
 "cells": [
  {
   "cell_type": "markdown",
   "metadata": {},
   "source": [
    "# Julia Scientific Programming\n",
    "This is a course provided by the University of Cape Town on Coursera."
   ]
  },
  {
   "cell_type": "markdown",
   "metadata": {},
   "source": [
    "The whole course as well as this notebook is published under the Creative Commons Zero v1.0 Universal license. The license text can be found in the last markdown cell at the very end of this document."
   ]
  },
  {
   "cell_type": "markdown",
   "metadata": {},
   "source": [
    "## Some technical aspects of Julia\n",
    "### Julia is strongly typed and dynamic\n",
    "\n",
    "This combination is unique to Julia. Dynamic languages (\"write code and it runs directly\") like Python and Matlab tend to be easy to learn and the programs written in them tend to quite short. Up to now, such languages have only used fairly simple type systems, which meant the programs could not be optimised to make the best possible use of processor capacity.\n",
    "\n",
    "It is the strong and very detailed type system that allows Julia code to run (almost) as fast as C.\n",
    "\n",
    "* Julia functions have multiple dispatch\n",
    "* Julia supports parallel programming, is concurrent and has a data model suitable for huge data sets\n",
    "* Julia interfaces particularly well with other languages, which include a nearly-native way of using Python code in Julia and vice versa\n",
    "\n",
    "In this course we mainly program in a Jupyter notebook."
   ]
  },
  {
   "cell_type": "code",
   "execution_count": 1,
   "metadata": {},
   "outputs": [
    {
     "data": {
      "text/plain": [
       "2"
      ]
     },
     "metadata": {},
     "output_type": "display_data"
    }
   ],
   "source": [
    "# Basic Arithmetic\n",
    "1+1"
   ]
  },
  {
   "cell_type": "code",
   "execution_count": 2,
   "metadata": {},
   "outputs": [
    {
     "data": {
      "text/plain": [
       "4038048"
      ]
     },
     "metadata": {},
     "output_type": "display_data"
    }
   ],
   "source": [
    "2003 * 2016"
   ]
  },
  {
   "cell_type": "markdown",
   "metadata": {},
   "source": [
    "Note that the elementary arithmetic operators are `+`, `-`, `*`, `/` and `^`. Parentheses should be used when there is any possibility of more than one interpretation."
   ]
  },
  {
   "cell_type": "markdown",
   "metadata": {},
   "source": [
    "Julia is like an interpreted language. What do we mean by that? The moment we complete a line of code, it gets executed. Python and Mathematica are interpreted languages. This is the opposite of compiled languages like C and Fortran. There, the code has to be compiled before it is run. However, Julia doesn't keep an interpreter running. Instead, it uses just-in-time compilation to compile tiny bits of code and then run them. Usually, the effect is very similar to what an interpreter would be doing. It is also possible to compile a whole program as a free-standing application and call it in Python, for example.\n",
    "\n",
    "Julia consists of a very basic core, written in C, and the Base package, mostly written in Julia, and many extensions, some of them written in other languages but mostly written in Julia.\n",
    "\n",
    "An extensions is called `package` in Julia.\n",
    "\n",
    "We can add an extension by executing the following code, either in a Julia cell or via the Julia command line (terminal sesseion and run `julia`).\n",
    "\n",
    "```\n",
    "Pkg.add('...')\n",
    "using ...\n",
    "```"
   ]
  },
  {
   "cell_type": "markdown",
   "metadata": {},
   "source": [
    "## The Julia REPL - Read, Evaluate and Print Loop\n",
    "\n",
    "The basic process in Julia is the REPL, which stands for Read-Evaluate-Print Loop. Every time we take a step in Julia (run a cell in our notebook) we run through this loop.\n"
   ]
  },
  {
   "cell_type": "code",
   "execution_count": 3,
   "metadata": {},
   "outputs": [
    {
     "name": "stdout",
     "output_type": "stream",
     "text": [
      "Hello, world!\n"
     ]
    }
   ],
   "source": [
    "println(\"Hello, world!\")"
   ]
  },
  {
   "cell_type": "markdown",
   "metadata": {},
   "source": [
    "The word \"println\" is the name of the function, and it points to the code that the function uses to do its work. It is one of Julia's built-in functions.\n",
    "\n",
    "The parentheses `()` is how Julia knows that it is dealing with functions. We need to be careful since there are many different delimiters in Julia. Julia uses `[]` which we call brackets, and `{}`, which we call braces.\n",
    "\n",
    "In Julia, strings are immutable. We can use some part of a string, we can put strings together -- but we cannot actually change a string."
   ]
  },
  {
   "cell_type": "code",
   "execution_count": 4,
   "metadata": {},
   "outputs": [
    {
     "name": "stdout",
     "output_type": "stream",
     "text": [
      "20 ... evaluated\n"
     ]
    }
   ],
   "source": [
    "println(5+15, \" ... evaluated\") # we can mix numbers and strings"
   ]
  },
  {
   "cell_type": "code",
   "execution_count": 7,
   "metadata": {},
   "outputs": [
    {
     "name": "stdout",
     "output_type": "stream",
     "text": [
      "Hello, world\n"
     ]
    }
   ],
   "source": [
    "println(\"Hello,\" * \" world\") # we can combine strings using *"
   ]
  },
  {
   "cell_type": "code",
   "execution_count": 8,
   "metadata": {},
   "outputs": [
    {
     "name": "stdout",
     "output_type": "stream",
     "text": [
      "Hello, world!Hello, world!Hello, world!Hello, world!Hello, world!Hello, world!\n"
     ]
    }
   ],
   "source": [
    "println(\"Hello, world!\"^6) # we can repeat string using ^"
   ]
  },
  {
   "cell_type": "markdown",
   "metadata": {},
   "source": [
    "REPL is a feature of dynamic languages such as Julia, Python and Mathematica. Using the acronym REPL just emphasises that a dynamic language continually stands ready to execute one more line of code.\n",
    "\n",
    "Calling the manual for certain functionalities is easily done using `?`. It does not seem to work in VSCode, though."
   ]
  },
  {
   "cell_type": "markdown",
   "metadata": {},
   "source": [
    "## Arithmetical expressions"
   ]
  },
  {
   "cell_type": "code",
   "execution_count": 12,
   "metadata": {},
   "outputs": [
    {
     "data": {
      "text/plain": [
       "-2"
      ]
     },
     "metadata": {},
     "output_type": "display_data"
    }
   ],
   "source": [
    "1 - 2 + 3 - 4"
   ]
  },
  {
   "cell_type": "code",
   "execution_count": 13,
   "metadata": {},
   "outputs": [
    {
     "data": {
      "text/plain": [
       "1.25"
      ]
     },
     "metadata": {},
     "output_type": "display_data"
    }
   ],
   "source": [
    "1 / 2 + 3 / 4"
   ]
  },
  {
   "cell_type": "code",
   "execution_count": 14,
   "metadata": {},
   "outputs": [
    {
     "data": {
      "text/plain": [
       "0.05"
      ]
     },
     "metadata": {},
     "output_type": "display_data"
    }
   ],
   "source": [
    "1 / (2 + 3) / 4"
   ]
  },
  {
   "cell_type": "code",
   "execution_count": 15,
   "metadata": {},
   "outputs": [
    {
     "data": {
      "text/plain": [
       "0.36363636363636365"
      ]
     },
     "metadata": {},
     "output_type": "display_data"
    }
   ],
   "source": [
    "1 / (2 + 3 / 4)"
   ]
  },
  {
   "cell_type": "code",
   "execution_count": 16,
   "metadata": {},
   "outputs": [
    {
     "data": {
      "text/plain": [
       "0.875"
      ]
     },
     "metadata": {},
     "output_type": "display_data"
    }
   ],
   "source": [
    "(1 / 2 + 3) / 4"
   ]
  },
  {
   "cell_type": "markdown",
   "metadata": {},
   "source": [
    "### Operator Precedence in Julia\n",
    "\n",
    "The plus, minus, multiply and divide operators are, of course the usual arithmetical operations.\n",
    "\n",
    "When several of them occur, it can be ambiguous to the human eye. In Julia, though, there is only one way to read an expression: from the left.\n",
    "\n",
    "Likewise, from the left 2-3+3 is 3, from the right it is -5, and in Julia it can only be 3.\n",
    "\n",
    "But it isn't simply always left-to-right. In Julia there are operators that have an higher priority."
   ]
  },
  {
   "cell_type": "code",
   "execution_count": 17,
   "metadata": {},
   "outputs": [
    {
     "name": "stdout",
     "output_type": "stream",
     "text": [
      "0.2222222222222222\n"
     ]
    }
   ],
   "source": [
    "println(2/3^2) # although the / occurs to the left of the ^, the latter is evaluated first. This is because some operators come higher in the order of precedence than others."
   ]
  },
  {
   "cell_type": "markdown",
   "metadata": {},
   "source": [
    "In Julia, as in many languages (such as Python or Mathematica), the order of arithmetical operations is as follows.\n",
    "\n",
    "* do the insides of parentheses first\n",
    "* then do exponentiation\n",
    "* then do multiplication and division, from left to right\n",
    "* finally, do addition and subtraction, from the left to right"
   ]
  },
  {
   "cell_type": "code",
   "execution_count": 18,
   "metadata": {},
   "outputs": [
    {
     "data": {
      "text/plain": [
       "-11.725000000000001"
      ]
     },
     "metadata": {},
     "output_type": "display_data"
    }
   ],
   "source": [
    "0.2 + 0.1 - 3 * 6.7 / 4 -1 - 2 * 3 # BAD CODE! It mixes types: some Int64, some Float64!"
   ]
  },
  {
   "cell_type": "markdown",
   "metadata": {},
   "source": [
    "In the above example, we are mixing types! In the above example, we are mixing Int64 and Float64. It slows Julia down.\n",
    "\n",
    "Notice, that the exponentiation operator is different from the other four, however: when several of them are stacked together, they operate right to left."
   ]
  },
  {
   "cell_type": "code",
   "execution_count": 19,
   "metadata": {},
   "outputs": [
    {
     "data": {
      "text/plain": [
       "6561"
      ]
     },
     "metadata": {},
     "output_type": "display_data"
    }
   ],
   "source": [
    "3^2^3 # exponentiation right-to-left is the Julia convention"
   ]
  },
  {
   "cell_type": "code",
   "execution_count": 20,
   "metadata": {},
   "outputs": [
    {
     "data": {
      "text/plain": [
       "729"
      ]
     },
     "metadata": {},
     "output_type": "display_data"
    }
   ],
   "source": [
    "(3^2)^3 # forcing left-to-right using parentheses"
   ]
  },
  {
   "cell_type": "markdown",
   "metadata": {},
   "source": [
    "Here the `3^2^3` is of course $3^{2^{3}}$ and standard mathematical conventions say this is the same as $3^{(2^{3})}$. That is, a stack of exponents is evaluated from top to bottom. This is equivalent writing the stack on one line, upper one to right, and evaluating them right-to-left."
   ]
  },
  {
   "cell_type": "markdown",
   "metadata": {},
   "source": [
    "## Logical Expressions\n",
    "\n",
    "Logic is the study of how to transform true sentences into other true sentences.\n",
    "\n",
    "Famous example 1: Socrates is a man. All men are mortal. Therefore Socrates is mortal.\n",
    "\n",
    "Famous example 2: If it rains, the grass is wet. It is raining. Therefore the grass is wet.\n",
    "\n",
    "This rigid and formal way of working may appear to be inadequate, but computer programs cannot do otherwise. In fact, computer logic is even more limited than the famous examples above. It can only evaluate logical expressions.\n",
    "\n",
    "In Julia, there are only two logical values: `true` and `false`. They are Julia language reserved words, which means their meaning is fixed and they can be used for no other purpose. The meaning they have in Julia is pretty much the meaning they have in ordinary human life.\n",
    "\n",
    "Julia has quite a few logical operators (as do computer languages in general). But three of them are more important than the rest.\n",
    "\n",
    "* `!` is the NOT operator\n",
    "* `&&` is the AND operator\n",
    "* `||` is the OR operator"
   ]
  },
  {
   "cell_type": "code",
   "execution_count": 21,
   "metadata": {},
   "outputs": [
    {
     "data": {
      "text/plain": [
       "false"
      ]
     },
     "metadata": {},
     "output_type": "display_data"
    }
   ],
   "source": [
    "!true"
   ]
  },
  {
   "cell_type": "code",
   "execution_count": 22,
   "metadata": {},
   "outputs": [
    {
     "data": {
      "text/plain": [
       "true"
      ]
     },
     "metadata": {},
     "output_type": "display_data"
    }
   ],
   "source": [
    "!false"
   ]
  },
  {
   "cell_type": "code",
   "execution_count": 23,
   "metadata": {},
   "outputs": [
    {
     "data": {
      "text/plain": [
       "true"
      ]
     },
     "metadata": {},
     "output_type": "display_data"
    }
   ],
   "source": [
    "true && true"
   ]
  },
  {
   "cell_type": "code",
   "execution_count": 24,
   "metadata": {},
   "outputs": [
    {
     "data": {
      "text/plain": [
       "false"
      ]
     },
     "metadata": {},
     "output_type": "display_data"
    }
   ],
   "source": [
    "true && false "
   ]
  },
  {
   "cell_type": "code",
   "execution_count": 25,
   "metadata": {},
   "outputs": [
    {
     "data": {
      "text/plain": [
       "true"
      ]
     },
     "metadata": {},
     "output_type": "display_data"
    }
   ],
   "source": [
    "true || true"
   ]
  },
  {
   "cell_type": "code",
   "execution_count": 26,
   "metadata": {},
   "outputs": [
    {
     "data": {
      "text/plain": [
       "true"
      ]
     },
     "metadata": {},
     "output_type": "display_data"
    }
   ],
   "source": [
    "true || false"
   ]
  },
  {
   "cell_type": "code",
   "execution_count": 27,
   "metadata": {},
   "outputs": [
    {
     "data": {
      "text/plain": [
       "true"
      ]
     },
     "metadata": {},
     "output_type": "display_data"
    }
   ],
   "source": [
    "1 < 22"
   ]
  },
  {
   "cell_type": "code",
   "execution_count": 28,
   "metadata": {},
   "outputs": [
    {
     "data": {
      "text/plain": [
       "true"
      ]
     },
     "metadata": {},
     "output_type": "display_data"
    }
   ],
   "source": [
    "2 == 4-2"
   ]
  },
  {
   "cell_type": "code",
   "execution_count": 29,
   "metadata": {},
   "outputs": [
    {
     "data": {
      "text/plain": [
       "false"
      ]
     },
     "metadata": {},
     "output_type": "display_data"
    }
   ],
   "source": [
    "-10 > 3"
   ]
  },
  {
   "cell_type": "markdown",
   "metadata": {},
   "source": [
    "### Operator precedence for logical expressions\n",
    "\n",
    "If we write computer code, we will often have to construct logical expressions very similar to the example given above.  \n",
    "As before, in Julia, an expression can mean only one thing. In this case, logical operators are again evaluated from left to right.\n",
    "However, arithmetic operators have higher precedence than logical operators: comparisons.\n",
    "\n",
    "The operators `&&` and `||` are Boolean operators: they work on expressions that are true or false. But there are two more operators, not covered in this course, namely `&` and `|`. Quite often, if we use `&` where intend `&&`, we will get an error message BUT it can also happen that a useful result appears despite the wrong operator. \n",
    "\n",
    "`&` is the bitwise AND operator and works on pairs of integers (actually, on the integers expressed in binary digits). Similarly, `|` is bitwise OR and likewise works on integer values expressed in bit form."
   ]
  },
  {
   "cell_type": "markdown",
   "metadata": {},
   "source": [
    "We should note that Julia goes one step further than simply interpreting \"&&\" and \"||\" logically, for the sake of efficient computation, by adopting what is called short-circuit evaluation of logical expressions. This takes advantage of the fact that an expression starting with \"false &&\" can never be true, and likewise starting with \"true ||\" an expression can never be false. Whenever such a situation is reached in a Julia computation, evaluation of the expression is stopped. That is, suppose we reach the code snippet \"true  || p1(x) \", then the function call p1(x) in the second half is never evaluated, because the expression is necessarily true. An example is \"true || sin(1.0)\", which returns the value \"true\". No free lunch: the efficiency gain comes at the price of making what appears to be a simple logical expression into a control structure. If we modify the code above to read \"true && p1(x)\" then the function p1(x) is executed, and (in Julia but not in all languages using short-circuit evaluation) its value is returned. For example, the code snippets \"false || sin(1.0)\" and \"true && sin(1.0)\" both return 0.8414709848078965, because in both cases because there is no short-circuit evaluation possible. \n",
    "\n",
    "Note that the event of returning a value generated by a function applies only to the very last item in a chain of logical operators, for example, \"p1(x)\" is the value returned by the the snippet  \" ... || p1(x)\",  where the dots stand for a long chain of operators which could not be short-circuited and which up to that point evaluated to \"false\" (similarly for \"... && p1(x)\" where the chain represented by the dots evaluates to \"true\"). This works perfectly also when \"p1(x)\" returns a truth value.\n",
    "\n",
    "Also note that short-circuit is so powerful that the precedence noted in the manual, namely the fact that \"&&\" is followed by \"||\", is not particularly important---the vast majority of cases are settled by short-circuit evaluation."
   ]
  },
  {
   "cell_type": "code",
   "execution_count": 33,
   "metadata": {},
   "outputs": [
    {
     "name": "stdout",
     "output_type": "stream",
     "text": [
      "4\n",
      "4\n"
     ]
    }
   ],
   "source": [
    "# Julia allows one to omit the multiplication operator when writing expressions\n",
    "x=1\n",
    "println(3*x^2-2*x+3)\n",
    "println(3x^2-2x+3)"
   ]
  },
  {
   "cell_type": "markdown",
   "metadata": {},
   "source": [
    "## Julia's Type System\n",
    "\n",
    "Julia is a strongly type language. It is a language with an intricate type system. If we want to, we can make use of this type system in great detail. However, the good news for beginner is that you can simply ignore type.\n",
    "\n",
    "People often ignore types if they want to quickly write code, e.g. for testing purposes. If we start noticing that our codes runs slowly, we can tweak it. In Julia this means we work on getting the types right.\n",
    "\n",
    "There is one case however, where a type cannot be ignored: when we get an error message that complains about type. That is, for purposes of debugging it is essential to know about Julia's type system.\n",
    "\n",
    "We all know that information is stored and moved around in computers using zeros and ones. But how do we tell that certain sequences of bits represents a number, or several numbers, or a colour, or a word, or what?\n",
    "\n",
    "This is where formats come in. If we knew what format to use, we could tell what sequence of zeros and ones meant.\n",
    "\n",
    " Each computer language has its own way of specifying the formats of information that it can use. Those are its types. Julia also has a type system, which is quite elaborate.\n",
    "\n",
    " Where do we store the type for a given piece of information? Different languages do this in different ways.\n",
    "\n",
    " ### In Julia, only values have types\n",
    "\n",
    " For example:\n",
    "\n",
    " `1+3+5`\n",
    "\n",
    " Each of `1`, `3` and `5` are symbols that stand for values, and so does the `9` that is the result of the calculation.\n",
    "\n",
    " In Julia, each of those values have a type. And values are the only things that have types in Julia. Of course, there is a lot of careful detail in how to make sure that zeros and ones that specify the value remain connected with zeros and ones that specify the type. In C, for instance, the programmer must think about this all the time. Luckily in Julia we need not to worry, those details are taken care of.\n",
    "\n",
    " It is easy to determine a type in Julia, by using the built-in-function `typeof()`."
   ]
  },
  {
   "cell_type": "code",
   "execution_count": 36,
   "metadata": {},
   "outputs": [
    {
     "data": {
      "text/plain": [
       "Int64"
      ]
     },
     "metadata": {},
     "output_type": "display_data"
    }
   ],
   "source": [
    "typeof(1)"
   ]
  },
  {
   "cell_type": "code",
   "execution_count": 37,
   "metadata": {},
   "outputs": [
    {
     "data": {
      "text/plain": [
       "Int64"
      ]
     },
     "metadata": {},
     "output_type": "display_data"
    }
   ],
   "source": [
    "typeof(1+3+5)"
   ]
  },
  {
   "cell_type": "code",
   "execution_count": 38,
   "metadata": {},
   "outputs": [
    {
     "data": {
      "text/plain": [
       "String"
      ]
     },
     "metadata": {},
     "output_type": "display_data"
    }
   ],
   "source": [
    "typeof(\"Hello, world!\")"
   ]
  },
  {
   "cell_type": "code",
   "execution_count": 39,
   "metadata": {},
   "outputs": [
    {
     "data": {
      "text/plain": [
       "String"
      ]
     },
     "metadata": {},
     "output_type": "display_data"
    }
   ],
   "source": [
    "typeof(\"αβγ\") # Greek letters via unicode, easy in Julia"
   ]
  },
  {
   "cell_type": "code",
   "execution_count": 40,
   "metadata": {},
   "outputs": [
    {
     "data": {
      "text/plain": [
       "String"
      ]
     },
     "metadata": {},
     "output_type": "display_data"
    }
   ],
   "source": [
    "typeof(\"H\")"
   ]
  },
  {
   "cell_type": "code",
   "execution_count": 41,
   "metadata": {},
   "outputs": [
    {
     "data": {
      "text/plain": [
       "Char"
      ]
     },
     "metadata": {},
     "output_type": "display_data"
    }
   ],
   "source": [
    "typeof('H')"
   ]
  },
  {
   "cell_type": "code",
   "execution_count": 42,
   "metadata": {},
   "outputs": [
    {
     "data": {
      "text/plain": [
       "Float64"
      ]
     },
     "metadata": {},
     "output_type": "display_data"
    }
   ],
   "source": [
    "typeof(1+3+5.)"
   ]
  },
  {
   "cell_type": "markdown",
   "metadata": {},
   "source": [
    "Julia is very sensitive to type: every single bit of work is done in terms of types.\n",
    "\n",
    "We need not to worry about types at all, if we don't want to. Julia will automatically assign types to any values we create.\n",
    "\n",
    "On the other hand, it is possible to specify in great detail what types we want. We can even extend Julia's type system with our own user-defined types. This can be a great help in speeding up code."
   ]
  },
  {
   "cell_type": "code",
   "execution_count": 44,
   "metadata": {},
   "outputs": [
    {
     "name": "stdout",
     "output_type": "stream",
     "text": [
      "⋄♡♢α\n"
     ]
    }
   ],
   "source": [
    "# we can use unicode characters. For example using `\\` is typically used. Julia follows LaTeX!!!\n",
    "\n",
    "println(\"⋄♡♢α\")"
   ]
  },
  {
   "cell_type": "markdown",
   "metadata": {},
   "source": [
    "In Julia, types are given names that start with capital letters, e.g. Char or String.\n",
    "\n",
    "A string of type String is a sequence of UTF8 characters. This gives a simple and unified way to deal with strings.\n",
    "\n",
    "Bool is short for Boolean, which is named for George Boole, who suggested that all logic could be presented in terms of the values true and false. He invented the algebra for doing logical calculations using these values.\n",
    "\n",
    "Int64 represents integers and Float64 represents the real numbers. To be precise, Float64 is a floating point format for the real numbers. Both of them use 64 bits to represent the number. However, the way they interpret these bits is quite different, even if the values are the same.\n",
    "\n",
    "When we type them out, the difference is very simple:\n",
    "\n",
    "* an integer has no fractional part, so we type them without a decimal point\n",
    "* for a floating point number, we always put in the decimal point, even if the fractional part is zero"
   ]
  },
  {
   "cell_type": "code",
   "execution_count": 45,
   "metadata": {},
   "outputs": [
    {
     "data": {
      "text/plain": [
       "Int64"
      ]
     },
     "metadata": {},
     "output_type": "display_data"
    }
   ],
   "source": [
    "typeof(2)"
   ]
  },
  {
   "cell_type": "code",
   "execution_count": 46,
   "metadata": {},
   "outputs": [
    {
     "data": {
      "text/plain": [
       "Float64"
      ]
     },
     "metadata": {},
     "output_type": "display_data"
    }
   ],
   "source": [
    "typeof(2.)"
   ]
  },
  {
   "cell_type": "code",
   "execution_count": 47,
   "metadata": {},
   "outputs": [
    {
     "data": {
      "text/plain": [
       "9.0"
      ]
     },
     "metadata": {},
     "output_type": "display_data"
    }
   ],
   "source": [
    "1+3+5."
   ]
  },
  {
   "cell_type": "markdown",
   "metadata": {},
   "source": [
    "The above has type Float64, not Int64, which may be surprising at first glance. The explanation is that all of the values are first converted to Float64, because not all of them are Int64. Julia has many such conversion rules (also known as promotion rules). Here, Int64 promotes to Float64 is because while in principle any integer has a float value, the reverse is not true.\n",
    "\n",
    "Julia compares values correctly, even if the types differ."
   ]
  },
  {
   "cell_type": "code",
   "execution_count": 49,
   "metadata": {},
   "outputs": [
    {
     "data": {
      "text/plain": [
       "true"
      ]
     },
     "metadata": {},
     "output_type": "display_data"
    }
   ],
   "source": [
    "2.0 == 2"
   ]
  },
  {
   "cell_type": "code",
   "execution_count": 50,
   "metadata": {},
   "outputs": [
    {
     "data": {
      "text/plain": [
       "false"
      ]
     },
     "metadata": {},
     "output_type": "display_data"
    }
   ],
   "source": [
    "2 < 3/2"
   ]
  },
  {
   "cell_type": "markdown",
   "metadata": {},
   "source": [
    "There is a strict comparison operator, namely `===` which is true if and only if two values agree fully as to type as well as value."
   ]
  },
  {
   "cell_type": "code",
   "execution_count": 51,
   "metadata": {},
   "outputs": [
    {
     "data": {
      "text/plain": [
       "false"
      ]
     },
     "metadata": {},
     "output_type": "display_data"
    }
   ],
   "source": [
    "2.0 === 2"
   ]
  },
  {
   "cell_type": "markdown",
   "metadata": {},
   "source": [
    "### Concrete and abstract types\n",
    "\n",
    "All the types above are concrete types. That is, they have no subtypes.\n",
    "\n",
    "But it is very useful to group types together. For example, both Int64 and Float64 are numbers, and one can do things with numbers without knowing exactly which type of number one is dealing with. For this purpose, Julia defines a supertype for every type (except the type Any, which is its own supertype). For example, Float64 has the supertype Real.\n",
    "\n",
    "This can get complicated. Int64 has supertype Signed, which has the supertype Integer, which has the supertype Real.\n",
    "\n",
    "Note that the type Real includes both Int64 and Float64. Types like Real and Integer, which can have subtypes, are called abstract types. The most abstract type of all is the type Any.\n",
    "\n",
    "Now, the actual type of value in Julia must always be a concrete type. So where do abstract types come in? There are two answers:\n",
    "\n",
    "* some operations change the type of a value by promotion; abstract types help to guide this process\n",
    "* functions are written to operate on types. If we write a function to use an abstract type, it will work for all types underneath that abstract type.\n",
    "\n",
    "As was noted above, we can write Julia code without any type specifications at all. What happens is that Julia then uses abstract types to specify our code. Most of the time, this is absolutely fine, and the actual values that are used have perfectly appropriate types. But it can seriously hamper spped (as often happens in Python, for example), so if we want to write programs that run fast, we will need to learn how to use type specifications."
   ]
  },
  {
   "cell_type": "markdown",
   "metadata": {},
   "source": [
    "### Julia has a tree of types\n",
    "\n",
    "The most abstract type of all, namely the type Any, splits into subtypes that do not overlap, and this is again true for further splits into subtypes.\n",
    "\n",
    "A different way of saying this is that every type as exactly one direct supertype.\n",
    "\n",
    "What this means is that there can be no confusion about how types are related in Julia. We can trace two types back to their lowest common supertype. This certainly is a very important aspect of the Julia type system."
   ]
  },
  {
   "cell_type": "markdown",
   "metadata": {},
   "source": [
    "## Variables in Julia have a name, a value and a type\n",
    "\n",
    "Julia has excellent support for arrays, on par with Matlab.\n",
    "\n",
    "Multidimensional arrays are easy to create in Julia. For example, Array{Int64}(undef, 3) creates a 3x1 array of integers (the undef in this bit of code means that no value is supplied --- note that Julia hates empty arrays of numbers, so it supplies some Int64 numbers anyway)."
   ]
  },
  {
   "cell_type": "code",
   "execution_count": 52,
   "metadata": {},
   "outputs": [
    {
     "data": {
      "text/plain": [
       "3-element Vector{Int64}:\n",
       " 140025458084688\n",
       " 140025268678560\n",
       " 140025274826912"
      ]
     },
     "metadata": {},
     "output_type": "display_data"
    }
   ],
   "source": [
    "Array{Int64}(undef, 3)"
   ]
  },
  {
   "cell_type": "markdown",
   "metadata": {},
   "source": [
    "The type of the array is `Array{Int64, 1}`. Further note that the type has a 1 where the code specifies a 3. They refer to completely different things. In the statement `Array{Int64}(undef, 3)`, the 3 is the number of elements in the first dimension. Since this is the only dimension, we end up with a one-dimensional array. The type is `Array{Int64, 1}`. The 1 specifies that it is a one-dimensional array; the Int64 specifies that each element of the array has type Int64.\n",
    "\n",
    "It is of interest that if we re-evaluate the above code, Julia changes the numbers in the array. This is not for any deep reason: Julia always has some junk numbers that need tidying away, so it is convenient simply to use them here."
   ]
  },
  {
   "cell_type": "markdown",
   "metadata": {},
   "source": [
    "### Assignment\n",
    "\n",
    "The assignment operator is `=`.\n",
    "\n",
    "Be very careful to use `=` when you want to do assignments and `==` when you want to do comparisons. The similarity of these operators is an unfortunate heritage from many older programming languages. \n",
    "\n",
    "That's it, that's how variables get values in Julia: they are assigned using `=`.\n",
    "\n",
    "To be exact, the value of the expression on the right of `=` is bound to the name on the left. It is useful to remember that one could read `a = 5` as \"the variable a takes the value 5\". Similarly, `a=b` read as \"the variable a takes the value of the variable b\".\n",
    "\n",
    "A variable name can be almost any string that starts with a letter and continues with letters, numbers or a few other characters.\n",
    "\n",
    "Note that here, letters include many Unicode characters. We could name all of our variables using Mandarin!"
   ]
  },
  {
   "cell_type": "code",
   "execution_count": 54,
   "metadata": {},
   "outputs": [
    {
     "data": {
      "text/plain": [
       "true"
      ]
     },
     "metadata": {},
     "output_type": "display_data"
    }
   ],
   "source": [
    "χ=2\n",
    "χ ≤ 3 # interestingly we have written \\leq (LaTeX for less or equal)"
   ]
  },
  {
   "cell_type": "code",
   "execution_count": 55,
   "metadata": {},
   "outputs": [
    {
     "data": {
      "text/plain": [
       "true"
      ]
     },
     "metadata": {},
     "output_type": "display_data"
    }
   ],
   "source": [
    "χ <= 3 # well, this is very cool."
   ]
  },
  {
   "cell_type": "markdown",
   "metadata": {},
   "source": [
    "User-defined variables should avoid capital letters. This is the community standard, it is not absolutely obligatory, but is widely observed. Here's why.\n",
    "\n",
    "Official Julia code reserves initial capitals for two uses: type names and module names.\n",
    "\n",
    "User-defined types and modules do usually have initial capitals, and sometimes also internal capitals (so-called camel case). The community standard on camel case is also reserve if for the names of types and modules.\n",
    "\n",
    "Likewise, a final \"I\" on a function name, by general agreement, is reserved for those functions that modify their arguments."
   ]
  },
  {
   "cell_type": "markdown",
   "metadata": {},
   "source": [
    "### The three parts of a Julia variable\n",
    "\n",
    "A Julia variable has a name and a value. The assignment operators binds the name to the value.\n",
    "\n",
    "But there is a third item: the type. As noted in the lecture on types, in Julia only values have types. So what does it mean to say that a variable has a type? Well, if the variable has a definite value, then the type of the variable is the type of its value.\n",
    "\n",
    "But it is often the case that one refers to a variable only by its name. In that case its value is now known. It may even be that the variable has not yet been created (or, not loaded). For instance, consider the command `println(greeting)` we used above. The function println() was written without knowing the type of the variable greeting.\n",
    "\n",
    "When a variable is known only by its name, it is given the abstract type Any, which is the most abstract type in Julia. That means is has no supertype, only subtypes. It is often useful to use a more restricted but still abstract subtype like Integer or AbstractString.\n",
    "\n",
    "A variable with abstract type must be given a value before it is used in a computation, otherwise Julia throws an error.\n",
    "\n",
    "It is therefore slightly wrong to say that a variable has a type. It is the value of the variable that has a type. It's just that while a variable waits to have a particular value and hence a concrete type, it can be useful to have in hand a limited set of possible types it can have. For that we use abstract types.\n",
    "\n",
    "Another slightly wrong way to say all this is the following: a variable may have abstract type only while it waits for its value to be assigned."
   ]
  },
  {
   "cell_type": "code",
   "execution_count": 56,
   "metadata": {},
   "outputs": [
    {
     "data": {
      "text/plain": [
       "2×3 Matrix{Integer}:\n",
       " #undef  #undef  #undef\n",
       " #undef  #undef  #undef"
      ]
     },
     "metadata": {},
     "output_type": "display_data"
    }
   ],
   "source": [
    "abstractVariable = Array{Integer}(undef, 2,3) # A two-dimensional array with 2 rows and 3 columns"
   ]
  },
  {
   "cell_type": "code",
   "execution_count": 57,
   "metadata": {},
   "outputs": [
    {
     "data": {
      "text/plain": [
       "Matrix{Integer} (alias for Array{Integer, 2})"
      ]
     },
     "metadata": {},
     "output_type": "display_data"
    }
   ],
   "source": [
    "typeof(abstractVariable)"
   ]
  },
  {
   "cell_type": "code",
   "execution_count": 58,
   "metadata": {},
   "outputs": [
    {
     "ename": "UndefRefError",
     "evalue": "UndefRefError: access to undefined reference",
     "output_type": "error",
     "traceback": [
      "UndefRefError: access to undefined reference\n",
      "\n",
      "Stacktrace:\n",
      "  [1] getindex(::Matrix{Integer}, ::Int64, ::Int64)\n",
      "    @ Base ./array.jl:862\n",
      "  [2] top-level scope\n",
      "    @ ~/Documents/Lager/julia-playground/JuliaScientificProgrammingLecture.ipynb:1\n",
      "  [3] eval\n",
      "    @ ./boot.jl:373 [inlined]\n",
      "  [4] include_string(mapexpr::typeof(REPL.softscope), mod::Module, code::String, filename::String)\n",
      "    @ Base ./loading.jl:1196\n",
      "  [5] #invokelatest#2\n",
      "    @ ./essentials.jl:716 [inlined]\n",
      "  [6] invokelatest\n",
      "    @ ./essentials.jl:714 [inlined]\n",
      "  [7] (::VSCodeServer.var\"#150#151\"{VSCodeServer.NotebookRunCellArguments, String})()\n",
      "    @ VSCodeServer ~/.vscode/extensions/julialang.language-julia-1.5.10/scripts/packages/VSCodeServer/src/serve_notebook.jl:18\n",
      "  [8] withpath(f::VSCodeServer.var\"#150#151\"{VSCodeServer.NotebookRunCellArguments, String}, path::String)\n",
      "    @ VSCodeServer ~/.vscode/extensions/julialang.language-julia-1.5.10/scripts/packages/VSCodeServer/src/repl.jl:185\n",
      "  [9] notebook_runcell_request(conn::VSCodeServer.JSONRPC.JSONRPCEndpoint{Base.PipeEndpoint, Base.PipeEndpoint}, params::VSCodeServer.NotebookRunCellArguments)\n",
      "    @ VSCodeServer ~/.vscode/extensions/julialang.language-julia-1.5.10/scripts/packages/VSCodeServer/src/serve_notebook.jl:14\n",
      " [10] dispatch_msg(x::VSCodeServer.JSONRPC.JSONRPCEndpoint{Base.PipeEndpoint, Base.PipeEndpoint}, dispatcher::VSCodeServer.JSONRPC.MsgDispatcher, msg::Dict{String, Any})\n",
      "    @ VSCodeServer.JSONRPC ~/.vscode/extensions/julialang.language-julia-1.5.10/scripts/packages/JSONRPC/src/typed.jl:67\n",
      " [11] serve_notebook(pipename::String; crashreporting_pipename::String)\n",
      "    @ VSCodeServer ~/.vscode/extensions/julialang.language-julia-1.5.10/scripts/packages/VSCodeServer/src/serve_notebook.jl:94\n",
      " [12] top-level scope\n",
      "    @ ~/.vscode/extensions/julialang.language-julia-1.5.10/scripts/notebook/notebook.jl:12"
     ]
    }
   ],
   "source": [
    "abstractVariable[2,1] # this is not possible! Obviously, attempting to access a value that does not exist must be an error."
   ]
  },
  {
   "cell_type": "code",
   "execution_count": 59,
   "metadata": {},
   "outputs": [
    {
     "data": {
      "text/plain": [
       "1"
      ]
     },
     "metadata": {},
     "output_type": "display_data"
    }
   ],
   "source": [
    "# however, we can of course assign a value\n",
    "abstractVariable[1,1]=1"
   ]
  },
  {
   "cell_type": "code",
   "execution_count": 60,
   "metadata": {},
   "outputs": [
    {
     "data": {
      "text/plain": [
       "2×3 Matrix{Integer}:\n",
       "   1     #undef  #undef\n",
       " #undef  #undef  #undef"
      ]
     },
     "metadata": {},
     "output_type": "display_data"
    }
   ],
   "source": [
    "abstractVariable"
   ]
  },
  {
   "cell_type": "code",
   "execution_count": 61,
   "metadata": {},
   "outputs": [
    {
     "data": {
      "text/plain": [
       "Matrix{Integer} (alias for Array{Integer, 2})"
      ]
     },
     "metadata": {},
     "output_type": "display_data"
    }
   ],
   "source": [
    "typeof(abstractVariable)"
   ]
  },
  {
   "cell_type": "code",
   "execution_count": null,
   "metadata": {},
   "outputs": [],
   "source": [
    "# If we try to assign a value that cannot be converted, Julia throws an error\n",
    "abstractVariable[2,2] = \"not possible\""
   ]
  },
  {
   "cell_type": "code",
   "execution_count": 63,
   "metadata": {},
   "outputs": [
    {
     "data": {
      "text/plain": [
       "3×3 Matrix{Int64}:\n",
       " 140025434624080  140025273982176         1\n",
       " 140025435264400  140025306037984        -1\n",
       " 140025434624400  140025489485832  16777473"
      ]
     },
     "metadata": {},
     "output_type": "display_data"
    }
   ],
   "source": [
    "# this is very different in camparison of concrete types\n",
    "concreteVariable=Array{Int64}(undef, 3,3) # concrete type Int64, while Integer is an abstract type"
   ]
  },
  {
   "cell_type": "code",
   "execution_count": null,
   "metadata": {},
   "outputs": [],
   "source": []
  },
  {
   "cell_type": "code",
   "execution_count": null,
   "metadata": {},
   "outputs": [],
   "source": []
  },
  {
   "cell_type": "code",
   "execution_count": null,
   "metadata": {},
   "outputs": [],
   "source": []
  },
  {
   "cell_type": "code",
   "execution_count": null,
   "metadata": {},
   "outputs": [],
   "source": []
  },
  {
   "cell_type": "code",
   "execution_count": null,
   "metadata": {},
   "outputs": [],
   "source": []
  },
  {
   "cell_type": "code",
   "execution_count": null,
   "metadata": {},
   "outputs": [],
   "source": []
  },
  {
   "cell_type": "code",
   "execution_count": null,
   "metadata": {},
   "outputs": [],
   "source": []
  },
  {
   "cell_type": "code",
   "execution_count": null,
   "metadata": {},
   "outputs": [],
   "source": []
  },
  {
   "cell_type": "code",
   "execution_count": null,
   "metadata": {},
   "outputs": [],
   "source": []
  },
  {
   "cell_type": "code",
   "execution_count": null,
   "metadata": {},
   "outputs": [],
   "source": []
  },
  {
   "cell_type": "code",
   "execution_count": null,
   "metadata": {},
   "outputs": [],
   "source": []
  },
  {
   "cell_type": "code",
   "execution_count": null,
   "metadata": {},
   "outputs": [],
   "source": []
  },
  {
   "cell_type": "code",
   "execution_count": null,
   "metadata": {},
   "outputs": [],
   "source": []
  },
  {
   "cell_type": "markdown",
   "metadata": {},
   "source": [
    "Creative Commons Zero v1.0 Universal\n",
    "\n",
    "The Creative Commons CC0 Public Domain Dedication waives copyright interest in a work you've created and dedicates it to the world-wide public domain. Use CC0 to opt out of copyright entirely and ensure your work has the widest reach. As with the Unlicense and typical software licenses, CC0 disclaims warranties. CC0 is very similar to the Unlicense.\n",
    "Permissions\n",
    "\n",
    "Commercial use\n",
    "Modification\n",
    "Distribution\n",
    "\n",
    "    Private use\n",
    "\n",
    "Limitations\n",
    "\n",
    "Liability\n",
    "Trademark use\n",
    "Patent use\n",
    "\n",
    "    Warranty\n",
    "\n",
    "Conditions\n",
    "\n",
    "This is not legal advice. Learn more about repository licenses.\n",
    "@pgrepds\n",
    "pgrepds Initial commit\n",
    "Latest commit e5e3bba 12 days ago\n",
    "History\n",
    "1 contributor\n",
    "121 lines (109 sloc) 6.88 KB\n",
    "Creative Commons Legal Code\n",
    "\n",
    "CC0 1.0 Universal\n",
    "\n",
    "    CREATIVE COMMONS CORPORATION IS NOT A LAW FIRM AND DOES NOT PROVIDE\n",
    "    LEGAL SERVICES. DISTRIBUTION OF THIS DOCUMENT DOES NOT CREATE AN\n",
    "    ATTORNEY-CLIENT RELATIONSHIP. CREATIVE COMMONS PROVIDES THIS\n",
    "    INFORMATION ON AN \"AS-IS\" BASIS. CREATIVE COMMONS MAKES NO WARRANTIES\n",
    "    REGARDING THE USE OF THIS DOCUMENT OR THE INFORMATION OR WORKS\n",
    "    PROVIDED HEREUNDER, AND DISCLAIMS LIABILITY FOR DAMAGES RESULTING FROM\n",
    "    THE USE OF THIS DOCUMENT OR THE INFORMATION OR WORKS PROVIDED\n",
    "    HEREUNDER.\n",
    "\n",
    "Statement of Purpose\n",
    "\n",
    "The laws of most jurisdictions throughout the world automatically confer\n",
    "exclusive Copyright and Related Rights (defined below) upon the creator\n",
    "and subsequent owner(s) (each and all, an \"owner\") of an original work of\n",
    "authorship and/or a database (each, a \"Work\").\n",
    "\n",
    "Certain owners wish to permanently relinquish those rights to a Work for\n",
    "the purpose of contributing to a commons of creative, cultural and\n",
    "scientific works (\"Commons\") that the public can reliably and without fear\n",
    "of later claims of infringement build upon, modify, incorporate in other\n",
    "works, reuse and redistribute as freely as possible in any form whatsoever\n",
    "and for any purposes, including without limitation commercial purposes.\n",
    "These owners may contribute to the Commons to promote the ideal of a free\n",
    "culture and the further production of creative, cultural and scientific\n",
    "works, or to gain reputation or greater distribution for their Work in\n",
    "part through the use and efforts of others.\n",
    "\n",
    "For these and/or other purposes and motivations, and without any\n",
    "expectation of additional consideration or compensation, the person\n",
    "associating CC0 with a Work (the \"Affirmer\"), to the extent that he or she\n",
    "is an owner of Copyright and Related Rights in the Work, voluntarily\n",
    "elects to apply CC0 to the Work and publicly distribute the Work under its\n",
    "terms, with knowledge of his or her Copyright and Related Rights in the\n",
    "Work and the meaning and intended legal effect of CC0 on those rights.\n",
    "\n",
    "1. Copyright and Related Rights. A Work made available under CC0 may be\n",
    "protected by copyright and related or neighboring rights (\"Copyright and\n",
    "Related Rights\"). Copyright and Related Rights include, but are not\n",
    "limited to, the following:\n",
    "\n",
    "  i. the right to reproduce, adapt, distribute, perform, display,\n",
    "     communicate, and translate a Work;\n",
    " ii. moral rights retained by the original author(s) and/or performer(s);\n",
    "iii. publicity and privacy rights pertaining to a person's image or\n",
    "     likeness depicted in a Work;\n",
    " iv. rights protecting against unfair competition in regards to a Work,\n",
    "     subject to the limitations in paragraph 4(a), below;\n",
    "  v. rights protecting the extraction, dissemination, use and reuse of data\n",
    "     in a Work;\n",
    " vi. database rights (such as those arising under Directive 96/9/EC of the\n",
    "     European Parliament and of the Council of 11 March 1996 on the legal\n",
    "     protection of databases, and under any national implementation\n",
    "     thereof, including any amended or successor version of such\n",
    "     directive); and\n",
    "vii. other similar, equivalent or corresponding rights throughout the\n",
    "     world based on applicable law or treaty, and any national\n",
    "     implementations thereof.\n",
    "\n",
    "2. Waiver. To the greatest extent permitted by, but not in contravention\n",
    "of, applicable law, Affirmer hereby overtly, fully, permanently,\n",
    "irrevocably and unconditionally waives, abandons, and surrenders all of\n",
    "Affirmer's Copyright and Related Rights and associated claims and causes\n",
    "of action, whether now known or unknown (including existing as well as\n",
    "future claims and causes of action), in the Work (i) in all territories\n",
    "worldwide, (ii) for the maximum duration provided by applicable law or\n",
    "treaty (including future time extensions), (iii) in any current or future\n",
    "medium and for any number of copies, and (iv) for any purpose whatsoever,\n",
    "including without limitation commercial, advertising or promotional\n",
    "purposes (the \"Waiver\"). Affirmer makes the Waiver for the benefit of each\n",
    "member of the public at large and to the detriment of Affirmer's heirs and\n",
    "successors, fully intending that such Waiver shall not be subject to\n",
    "revocation, rescission, cancellation, termination, or any other legal or\n",
    "equitable action to disrupt the quiet enjoyment of the Work by the public\n",
    "as contemplated by Affirmer's express Statement of Purpose.\n",
    "\n",
    "3. Public License Fallback. Should any part of the Waiver for any reason\n",
    "be judged legally invalid or ineffective under applicable law, then the\n",
    "Waiver shall be preserved to the maximum extent permitted taking into\n",
    "account Affirmer's express Statement of Purpose. In addition, to the\n",
    "extent the Waiver is so judged Affirmer hereby grants to each affected\n",
    "person a royalty-free, non transferable, non sublicensable, non exclusive,\n",
    "irrevocable and unconditional license to exercise Affirmer's Copyright and\n",
    "Related Rights in the Work (i) in all territories worldwide, (ii) for the\n",
    "maximum duration provided by applicable law or treaty (including future\n",
    "time extensions), (iii) in any current or future medium and for any number\n",
    "of copies, and (iv) for any purpose whatsoever, including without\n",
    "limitation commercial, advertising or promotional purposes (the\n",
    "\"License\"). The License shall be deemed effective as of the date CC0 was\n",
    "applied by Affirmer to the Work. Should any part of the License for any\n",
    "reason be judged legally invalid or ineffective under applicable law, such\n",
    "partial invalidity or ineffectiveness shall not invalidate the remainder\n",
    "of the License, and in such case Affirmer hereby affirms that he or she\n",
    "will not (i) exercise any of his or her remaining Copyright and Related\n",
    "Rights in the Work or (ii) assert any associated claims and causes of\n",
    "action with respect to the Work, in either case contrary to Affirmer's\n",
    "express Statement of Purpose.\n",
    "\n",
    "4. Limitations and Disclaimers.\n",
    "\n",
    " a. No trademark or patent rights held by Affirmer are waived, abandoned,\n",
    "    surrendered, licensed or otherwise affected by this document.\n",
    " b. Affirmer offers the Work as-is and makes no representations or\n",
    "    warranties of any kind concerning the Work, express, implied,\n",
    "    statutory or otherwise, including without limitation warranties of\n",
    "    title, merchantability, fitness for a particular purpose, non\n",
    "    infringement, or the absence of latent or other defects, accuracy, or\n",
    "    the present or absence of errors, whether or not discoverable, all to\n",
    "    the greatest extent permissible under applicable law.\n",
    " c. Affirmer disclaims responsibility for clearing rights of other persons\n",
    "    that may apply to the Work or any use thereof, including without\n",
    "    limitation any person's Copyright and Related Rights in the Work.\n",
    "    Further, Affirmer disclaims responsibility for obtaining any necessary\n",
    "    consents, permissions or other rights required for any use of the\n",
    "    Work.\n",
    " d. Affirmer understands and acknowledges that Creative Commons is not a\n",
    "    party to this document and has no duty or obligation with respect to\n",
    "    this CC0 or use of the Work."
   ]
  }
 ],
 "metadata": {
  "kernelspec": {
   "display_name": "Julia 1.7.1",
   "language": "julia",
   "name": "julia-1.7"
  },
  "language_info": {
   "file_extension": ".jl",
   "mimetype": "application/julia",
   "name": "julia",
   "version": "1.7.1"
  },
  "orig_nbformat": 4
 },
 "nbformat": 4,
 "nbformat_minor": 2
}
