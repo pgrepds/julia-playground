{
 "cells": [
  {
   "cell_type": "markdown",
   "metadata": {},
   "source": [
    "# Julia Scientific Programming\n",
    "This is a course provided by the University of Cape Town on Coursera."
   ]
  },
  {
   "cell_type": "markdown",
   "metadata": {},
   "source": [
    "## Some technical aspects of Julia\n",
    "### Julia is strongly typed and dynamic\n",
    "\n",
    "This combination is unique to Julia. Dynamic languages (\"write code and it runs directly\") like Python and Matlab tend to be easy to learn and the programs written in them tend to quite short. Up to now, such languages have only used fairly simple type systems, which meant the programs could not be optimised to make the best possible use of processor capacity.\n",
    "\n",
    "It is the strong and very detailed type system that allows Julia code to run (almost) as fast as C.\n",
    "\n",
    "* Julia functions have multiple dispatch\n",
    "* Julia supports parallel programming, is concurrent and has a data model suitable for huge data sets\n",
    "* Julia interfaces particularly well with other languages, which include a nearly-native way of using Python code in Julia and vice versa\n",
    "\n",
    "In this course we mainly program in a Jupyter notebook."
   ]
  },
  {
   "cell_type": "code",
   "execution_count": 1,
   "metadata": {},
   "outputs": [
    {
     "data": {
      "text/plain": [
       "2"
      ]
     },
     "metadata": {},
     "output_type": "display_data"
    }
   ],
   "source": [
    "# Basic Arithmetic\n",
    "1+1"
   ]
  },
  {
   "cell_type": "code",
   "execution_count": 2,
   "metadata": {},
   "outputs": [
    {
     "data": {
      "text/plain": [
       "4038048"
      ]
     },
     "metadata": {},
     "output_type": "display_data"
    }
   ],
   "source": [
    "2003 * 2016"
   ]
  },
  {
   "cell_type": "markdown",
   "metadata": {},
   "source": [
    "Note that the elementary arithmetic operators are `+`, `-`, `*`, `/` and `^`. Parentheses should be used when there is any possibility of more than one interpretation."
   ]
  },
  {
   "cell_type": "markdown",
   "metadata": {},
   "source": [
    "Julia is like an interpreted language. What do we mean by that? The moment we complete a line of code, it gets executed. Python and Mathematica are interpreted languages. This is the opposite of compiled languages like C and Fortran. There, the code has to be compiled before it is run. However, Julia doesn't keep an interpreter running. Instead, it uses just-in-time compilation to compile tiny bits of code and then run them. Usually, the effect is very similar to what an interpreter would be doing. It is also possible to compile a whole program as a free-standing application and call it in Python, for example.\n",
    "\n",
    "Julia consists of a very basic core, written in C, and the Base package, mostly written in Julia, and many extensions, some of them written in other languages but mostly written in Julia.\n",
    "\n",
    "An extensions is called `package` in Julia.\n",
    "\n",
    "We can add an extension by executing the following code, either in a Julia cell or via the Julia command line (terminal sesseion and run `julia`).\n",
    "\n",
    "```\n",
    "Pkg.add('...')\n",
    "using ...\n",
    "```"
   ]
  },
  {
   "cell_type": "markdown",
   "metadata": {},
   "source": [
    "## The Julia REPL - Read, Evaluate and Print Loop\n",
    "\n",
    "The basic process in Julia is the REPL, which stands for Read-Evaluate-Print Loop. Every time we take a step in Julia (run a cell in our notebook) we run through this loop.\n"
   ]
  },
  {
   "cell_type": "code",
   "execution_count": 3,
   "metadata": {},
   "outputs": [
    {
     "name": "stdout",
     "output_type": "stream",
     "text": [
      "Hello, world!\n"
     ]
    }
   ],
   "source": [
    "println(\"Hello, world!\")"
   ]
  },
  {
   "cell_type": "markdown",
   "metadata": {},
   "source": [
    "The word \"println\" is the name of the function, and it points to the code that the function uses to do its work. It is one of Julia's built-in functions.\n",
    "\n",
    "The parentheses `()` is how Julia knows that it is dealing with functions. We need to be careful since there are many different delimiters in Julia. Julia uses `[]` which we call brackets, and `{}`, which we call braces.\n",
    "\n",
    "In Julia, strings are immutable. We can use some part of a string, we can put strings together -- but we cannot actually change a string."
   ]
  },
  {
   "cell_type": "code",
   "execution_count": 4,
   "metadata": {},
   "outputs": [
    {
     "name": "stdout",
     "output_type": "stream",
     "text": [
      "20 ... evaluated\n"
     ]
    }
   ],
   "source": [
    "println(5+15, \" ... evaluated\") # we can mix numbers and strings"
   ]
  },
  {
   "cell_type": "code",
   "execution_count": 7,
   "metadata": {},
   "outputs": [
    {
     "name": "stdout",
     "output_type": "stream",
     "text": [
      "Hello, world\n"
     ]
    }
   ],
   "source": [
    "println(\"Hello,\" * \" world\") # we can combine strings using *"
   ]
  },
  {
   "cell_type": "code",
   "execution_count": 8,
   "metadata": {},
   "outputs": [
    {
     "name": "stdout",
     "output_type": "stream",
     "text": [
      "Hello, world!Hello, world!Hello, world!Hello, world!Hello, world!Hello, world!\n"
     ]
    }
   ],
   "source": [
    "println(\"Hello, world!\"^6) # we can repeat string using ^"
   ]
  },
  {
   "cell_type": "markdown",
   "metadata": {},
   "source": [
    "REPL is a feature of dynamic languages such as Julia, Python and Mathematica. Using the acronym REPL just emphasises that a dynamic language continually stands ready to execute one more line of code."
   ]
  },
  {
   "cell_type": "code",
   "execution_count": null,
   "metadata": {},
   "outputs": [],
   "source": []
  },
  {
   "cell_type": "code",
   "execution_count": null,
   "metadata": {},
   "outputs": [],
   "source": []
  },
  {
   "cell_type": "code",
   "execution_count": null,
   "metadata": {},
   "outputs": [],
   "source": []
  },
  {
   "cell_type": "code",
   "execution_count": null,
   "metadata": {},
   "outputs": [],
   "source": []
  },
  {
   "cell_type": "code",
   "execution_count": null,
   "metadata": {},
   "outputs": [],
   "source": []
  },
  {
   "cell_type": "code",
   "execution_count": null,
   "metadata": {},
   "outputs": [],
   "source": []
  }
 ],
 "metadata": {
  "kernelspec": {
   "display_name": "Julia 1.7.1",
   "language": "julia",
   "name": "julia-1.7"
  },
  "language_info": {
   "file_extension": ".jl",
   "mimetype": "application/julia",
   "name": "julia",
   "version": "1.7.1"
  },
  "orig_nbformat": 4
 },
 "nbformat": 4,
 "nbformat_minor": 2
}
