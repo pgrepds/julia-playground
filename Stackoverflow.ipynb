{
 "cells": [
  {
   "cell_type": "code",
   "execution_count": 19,
   "metadata": {},
   "outputs": [],
   "source": [
    "using Measurements"
   ]
  },
  {
   "cell_type": "code",
   "execution_count": 33,
   "metadata": {},
   "outputs": [
    {
     "data": {
      "text/plain": [
       "5×1 Matrix{Measurement{Float64}}:\n",
       "  0.64 ± 0.55\n",
       "  0.33 ± 0.21\n",
       "  0.53 ± 0.78\n",
       " 0.078 ± 0.64\n",
       "  0.42 ± 0.61"
      ]
     },
     "metadata": {},
     "output_type": "display_data"
    }
   ],
   "source": [
    "A = zeros(Measurement{Float64},5,1) # we need to provide a type here\n",
    "for n = 1:5\n",
    "  local B = rand() ± rand()\n",
    "  local C = rand() ± rand()\n",
    "  global A[n,1] = sqrt.((B-C).^2)\n",
    "end\n",
    "A"
   ]
  },
  {
   "cell_type": "code",
   "execution_count": 35,
   "metadata": {},
   "outputs": [
    {
     "data": {
      "text/plain": [
       "200-element Vector{Float64}:\n",
       "  1.0e10\n",
       "  9.9e9\n",
       "  9.8e9\n",
       "  9.7e9\n",
       "  9.6e9\n",
       "  9.5e9\n",
       "  9.4e9\n",
       "  9.3e9\n",
       "  9.2e9\n",
       "  9.1e9\n",
       "  ⋮\n",
       " -9.2e9\n",
       " -9.3e9\n",
       " -9.4e9\n",
       " -9.5e9\n",
       " -9.6e9\n",
       " -9.7e9\n",
       " -9.8e9\n",
       " -9.9e9\n",
       " -1.0e10"
      ]
     },
     "metadata": {},
     "output_type": "display_data"
    }
   ],
   "source": [
    "v = collect(range(1e10, -1e10, step=-1e8))\n",
    "deleteat!(v,findall(iszero,v))"
   ]
  },
  {
   "cell_type": "code",
   "execution_count": 36,
   "metadata": {},
   "outputs": [
    {
     "data": {
      "text/plain": [
       "3-element Vector{String}:\n",
       " \"The font face is bold\"\n",
       " \"The font face is ital\"\n",
       " \"The font face is code\""
      ]
     },
     "metadata": {},
     "output_type": "display_data"
    }
   ],
   "source": [
    "faces = [\"bold\", \"ital\", \"code\"]\n",
    "str = \"The font face is \"\n",
    "\n",
    "map(x -> str*x, faces)"
   ]
  },
  {
   "cell_type": "code",
   "execution_count": 39,
   "metadata": {},
   "outputs": [
    {
     "data": {
      "text/plain": [
       "3-element Vector{String}:\n",
       " \"The font face is bold\"\n",
       " \"The font face is ital\"\n",
       " \"The font face is code\""
      ]
     },
     "metadata": {},
     "output_type": "display_data"
    }
   ],
   "source": [
    "faces = [\"bold\", \"ital\", \"code\"]\n",
    "str = \"The font face is \"\n",
    "[\"The font face is $f\" for f ∈ faces]"
   ]
  },
  {
   "cell_type": "code",
   "execution_count": null,
   "metadata": {},
   "outputs": [],
   "source": []
  },
  {
   "cell_type": "code",
   "execution_count": null,
   "metadata": {},
   "outputs": [],
   "source": []
  }
 ],
 "metadata": {
  "interpreter": {
   "hash": "e7370f93d1d0cde622a1f8e1c04877d8463912d04d973331ad4851f04de6915a"
  },
  "kernelspec": {
   "display_name": "Julia 1.7.2",
   "language": "julia",
   "name": "julia-1.7"
  },
  "language_info": {
   "file_extension": ".jl",
   "mimetype": "application/julia",
   "name": "julia",
   "version": "1.7.2"
  },
  "orig_nbformat": 4
 },
 "nbformat": 4,
 "nbformat_minor": 2
}
