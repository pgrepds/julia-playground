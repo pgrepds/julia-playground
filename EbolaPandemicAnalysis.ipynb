{
 "cells": [
  {
   "cell_type": "markdown",
   "metadata": {},
   "source": [
    "## Ebola and Wikipedia: Loading publicly available data using Julia\n",
    "\n",
    "Julia consists of some basics that are always loaded, plus extensions that can be additionally loaded. One of these is the DelimitedFiles package, which is part of the standard library, but in order to use it, we have to load it. To do so is very simple: we just enter `using DelimitedFiles`. "
   ]
  },
  {
   "cell_type": "code",
   "execution_count": 2,
   "metadata": {},
   "outputs": [],
   "source": [
    "using DelimitedFiles"
   ]
  },
  {
   "cell_type": "code",
   "execution_count": null,
   "metadata": {},
   "outputs": [],
   "source": [
    "wikiEVDraw = DelimitedFiles.readdlm(\"data/wikipediaEVDraw.csv\", ',') # getting quotes right is important!"
   ]
  },
  {
   "cell_type": "markdown",
   "metadata": {},
   "source": [
    "The `readdlm()` function is Julia's way to read any file that consists of lines separated into data items with a delimiter of some sort. In fact, the very word `readdlm` is an abbreviation of \"read-with-a-delimiter\".\n",
    "\n",
    "Notice five things\n",
    "\n",
    "* We loaded the DelimitedFiles package with `using DelimitedFiles`\n",
    "* In order to user `readdlm()`, we have to say that it sits in the DelimitedFiles package, using the dot syntax `DelimitedFiles.readdlm()`. This use of dot syntax for referencing an object that sits inside another object is also used in languages like C++ and Java.\n",
    "* We have used a variable to contain the data from the file (we could have changed the name, though)\n",
    "* the file name is given as a string using double quotes\n",
    "* The delimiter is given as a character, using single quotes\n",
    "\n",
    "Finally, we see from the output the type of the data: after they have been stored in the variable as an array, the elements are of type `Any`. This is not good for computation -- in particular, for modelling we need the data in terms of days since the start of the epidemic. Our next job is to convert the strings in column one into integers which give the number of days since 22 March 2014."
   ]
  },
  {
   "cell_type": "code",
   "execution_count": null,
   "metadata": {},
   "outputs": [],
   "source": []
  },
  {
   "cell_type": "code",
   "execution_count": null,
   "metadata": {},
   "outputs": [],
   "source": []
  },
  {
   "cell_type": "code",
   "execution_count": null,
   "metadata": {},
   "outputs": [],
   "source": []
  },
  {
   "cell_type": "code",
   "execution_count": null,
   "metadata": {},
   "outputs": [],
   "source": []
  },
  {
   "cell_type": "code",
   "execution_count": null,
   "metadata": {},
   "outputs": [],
   "source": []
  },
  {
   "cell_type": "code",
   "execution_count": null,
   "metadata": {},
   "outputs": [],
   "source": []
  }
 ],
 "metadata": {
  "kernelspec": {
   "display_name": "Julia 1.7.1",
   "language": "julia",
   "name": "julia-1.7"
  },
  "language_info": {
   "file_extension": ".jl",
   "mimetype": "application/julia",
   "name": "julia",
   "version": "1.7.1"
  },
  "orig_nbformat": 4
 },
 "nbformat": 4,
 "nbformat_minor": 2
}
