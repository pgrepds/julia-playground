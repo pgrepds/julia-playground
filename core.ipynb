{
 "cells": [
  {
   "cell_type": "code",
   "execution_count": 2,
   "metadata": {},
   "outputs": [],
   "source": [
    "using PlutoUI"
   ]
  },
  {
   "cell_type": "code",
   "execution_count": 3,
   "metadata": {},
   "outputs": [
    {
     "data": {
      "text/plain": [
       "Hello World"
      ]
     },
     "metadata": {},
     "output_type": "display_data"
    }
   ],
   "source": [
    "Print(\"Hello World\")"
   ]
  },
  {
   "cell_type": "markdown",
   "metadata": {},
   "source": [
    "## Core Language Basics\n",
    "In this notebook, we explore the core language features of Julia. There is a nice talk from the JuliaCon 2020 about Pluto notebooks, which is freely available on YouTube (https://www.youtube.com/watch?v=IAF8DjrQSSk). Most of the things mentioned there (if not all), works here as well.\n",
    "\n",
    "Notice that Julia notebooks do not support multi-line cells. This is by design. If we want to use them anyway, we must wrap them into the following code.\n",
    "\n",
    "```julia\n",
    "begin\n",
    "\n",
    "end\n",
    "```"
   ]
  },
  {
   "cell_type": "markdown",
   "metadata": {},
   "source": [
    "### Variables\n",
    "Julia is fully unicode and this applies even to variable names. What makes this incredibly amazing is that we can type mathematical formulas directly into code, thus let us imagine that we want to calculate the chromatic number of a graph, then instead of naming our variable 'chi' we can actually use the greek letter by typing '\\chi', which is incredible."
   ]
  },
  {
   "cell_type": "markdown",
   "metadata": {},
   "source": [
    "### Type System\n",
    "Julia is inbetween statically typed (like Java) and dynamically typed (like Python and JavaScript) languages. In the Julia programming language all variable bindings have a specific type which can be provided by the developer. However, if no specific type is provided, then this type is the abstract supertype named 'Any'.\n",
    "\n",
    "We can annotate any variable using the `::` operator which reads as 'is an instance of'.\n",
    "\n",
    "Notice that variable scopes are global in Julia by design. However, we can introduce local variables by using local scopes. An in-depth documentation of this feature is provided in the official [documentation](https://docs.julialang.org/en/v1/manual/variables-and-scoping/)."
   ]
  },
  {
   "cell_type": "code",
   "execution_count": 6,
   "metadata": {},
   "outputs": [
    {
     "data": {
      "text/plain": [
       "45"
      ]
     },
     "metadata": {},
     "output_type": "display_data"
    }
   ],
   "source": [
    "# Assigning a variable\n",
    "a = 45"
   ]
  },
  {
   "cell_type": "code",
   "execution_count": 7,
   "metadata": {},
   "outputs": [
    {
     "data": {
      "text/plain": [
       "45"
      ]
     },
     "metadata": {},
     "output_type": "display_data"
    }
   ],
   "source": [
    "a"
   ]
  },
  {
   "cell_type": "code",
   "execution_count": 14,
   "metadata": {},
   "outputs": [
    {
     "data": {
      "text/plain": [
       "109"
      ]
     },
     "metadata": {},
     "output_type": "display_data"
    }
   ],
   "source": [
    "begin\n",
    "    α=42\n",
    "    χ=2*α+25\n",
    "end"
   ]
  },
  {
   "cell_type": "code",
   "execution_count": 21,
   "metadata": {},
   "outputs": [
    {
     "data": {
      "text/plain": [
       "\"😀\""
      ]
     },
     "metadata": {},
     "output_type": "display_data"
    }
   ],
   "source": [
    "# This is a comment. Full unicode support allows crazy things such as.\n",
    "😀 = \"😀\""
   ]
  },
  {
   "cell_type": "code",
   "execution_count": 26,
   "metadata": {},
   "outputs": [
    {
     "data": {
      "text/plain": [
       "Hello"
      ]
     },
     "metadata": {},
     "output_type": "display_data"
    }
   ],
   "source": [
    "if 😀 == 😀\n",
    "    Print(\"Hello\")\n",
    "end"
   ]
  },
  {
   "cell_type": "code",
   "execution_count": 27,
   "metadata": {},
   "outputs": [
    {
     "data": {
      "text/plain": [
       "String"
      ]
     },
     "metadata": {},
     "output_type": "display_data"
    }
   ],
   "source": [
    "# check type\n",
    "typeof(\"Hello\")"
   ]
  },
  {
   "cell_type": "code",
   "execution_count": 33,
   "metadata": {},
   "outputs": [
    {
     "name": "stdout",
     "output_type": "stream",
     "text": [
      "42"
     ]
    }
   ],
   "source": [
    "# annotated typed local variable by using the let end block.\n",
    "begin\n",
    "    let \n",
    "        a::Int=42 \n",
    "        print(a)\n",
    "    end\n",
    "end"
   ]
  },
  {
   "cell_type": "code",
   "execution_count": null,
   "metadata": {},
   "outputs": [],
   "source": []
  },
  {
   "cell_type": "code",
   "execution_count": null,
   "metadata": {},
   "outputs": [],
   "source": []
  },
  {
   "cell_type": "code",
   "execution_count": null,
   "metadata": {},
   "outputs": [],
   "source": []
  },
  {
   "cell_type": "code",
   "execution_count": null,
   "metadata": {},
   "outputs": [],
   "source": []
  }
 ],
 "metadata": {
  "kernelspec": {
   "display_name": "Julia 1.7.1",
   "language": "julia",
   "name": "julia-1.7"
  },
  "language_info": {
   "file_extension": ".jl",
   "mimetype": "application/julia",
   "name": "julia",
   "version": "1.7.1"
  },
  "orig_nbformat": 4
 },
 "nbformat": 4,
 "nbformat_minor": 2
}
