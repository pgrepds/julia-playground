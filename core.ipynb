{
 "cells": [
  {
   "cell_type": "code",
   "execution_count": 1,
   "metadata": {},
   "outputs": [],
   "source": [
    "using PlutoUI"
   ]
  },
  {
   "cell_type": "code",
   "execution_count": 2,
   "metadata": {},
   "outputs": [
    {
     "data": {
      "text/plain": [
       "Hello World"
      ]
     },
     "metadata": {},
     "output_type": "display_data"
    }
   ],
   "source": [
    "Print(\"Hello World\")"
   ]
  },
  {
   "cell_type": "markdown",
   "metadata": {},
   "source": [
    "## Core Language Basics\n",
    "In this notebook, we explore the core language features of Julia. There is a nice talk from the JuliaCon 2020 about Pluto notebooks, which is freely available on YouTube (https://www.youtube.com/watch?v=IAF8DjrQSSk). Most of the things mentioned there (if not all), works here as well.\n",
    "\n",
    "Notice that Julia notebooks do not support multi-line cells. This is by design. If we want to use them anyway, we must wrap them into the following code.\n",
    "\n",
    "```julia\n",
    "begin\n",
    "\n",
    "end\n",
    "```\n",
    "\n",
    "**UPDATE:** Strangely, it started to work without the above block!"
   ]
  },
  {
   "cell_type": "markdown",
   "metadata": {},
   "source": [
    "### Variables\n",
    "Julia is fully unicode and this applies even to variable names. What makes this incredibly amazing is that we can type mathematical formulas directly into code, thus let us imagine that we want to calculate the chromatic number of a graph, then instead of naming our variable 'chi' we can actually use the greek letter by typing '\\chi', which is incredible."
   ]
  },
  {
   "cell_type": "markdown",
   "metadata": {},
   "source": [
    "### Type System\n",
    "Julia is inbetween statically typed (like Java) and dynamically typed (like Python and JavaScript) languages. In the Julia programming language all variable bindings have a specific type which can be provided by the developer. However, if no specific type is provided, then this type is the abstract supertype named 'Any'.\n",
    "\n",
    "We can annotate any variable using the `::` operator which reads as 'is an instance of'.\n",
    "\n",
    "Notice that variable scopes are global in Julia by design. However, we can introduce local variables by using local scopes. An in-depth documentation of this feature is provided in the official [documentation](https://docs.julialang.org/en/v1/manual/variables-and-scoping/)."
   ]
  },
  {
   "cell_type": "code",
   "execution_count": 4,
   "metadata": {},
   "outputs": [
    {
     "data": {
      "text/plain": [
       "45"
      ]
     },
     "metadata": {},
     "output_type": "display_data"
    }
   ],
   "source": [
    "# Assigning a variable\n",
    "a = 45"
   ]
  },
  {
   "cell_type": "code",
   "execution_count": 5,
   "metadata": {},
   "outputs": [
    {
     "data": {
      "text/plain": [
       "45"
      ]
     },
     "metadata": {},
     "output_type": "display_data"
    }
   ],
   "source": [
    "a"
   ]
  },
  {
   "cell_type": "code",
   "execution_count": 6,
   "metadata": {},
   "outputs": [
    {
     "data": {
      "text/plain": [
       "109"
      ]
     },
     "metadata": {},
     "output_type": "display_data"
    }
   ],
   "source": [
    "begin\n",
    "    α=42\n",
    "    χ=2*α+25\n",
    "end"
   ]
  },
  {
   "cell_type": "code",
   "execution_count": 7,
   "metadata": {},
   "outputs": [
    {
     "data": {
      "text/plain": [
       "\"😀\""
      ]
     },
     "metadata": {},
     "output_type": "display_data"
    }
   ],
   "source": [
    "# This is a comment. Full unicode support allows crazy things such as.\n",
    "😀 = \"😀\""
   ]
  },
  {
   "cell_type": "code",
   "execution_count": 8,
   "metadata": {},
   "outputs": [
    {
     "data": {
      "text/plain": [
       "Hello"
      ]
     },
     "metadata": {},
     "output_type": "display_data"
    }
   ],
   "source": [
    "if 😀 == 😀\n",
    "    Print(\"Hello\")\n",
    "end"
   ]
  },
  {
   "cell_type": "code",
   "execution_count": 9,
   "metadata": {},
   "outputs": [
    {
     "data": {
      "text/plain": [
       "String"
      ]
     },
     "metadata": {},
     "output_type": "display_data"
    }
   ],
   "source": [
    "# check type\n",
    "typeof(\"Hello\")"
   ]
  },
  {
   "cell_type": "code",
   "execution_count": 10,
   "metadata": {},
   "outputs": [
    {
     "name": "stdout",
     "output_type": "stream",
     "text": [
      "42"
     ]
    }
   ],
   "source": [
    "# annotated typed local variable by using the let end block.\n",
    "begin\n",
    "    let \n",
    "        a::Int=42 \n",
    "        print(a)\n",
    "    end\n",
    "end"
   ]
  },
  {
   "cell_type": "code",
   "execution_count": 11,
   "metadata": {},
   "outputs": [
    {
     "data": {
      "text/plain": [
       "Int64"
      ]
     },
     "metadata": {},
     "output_type": "display_data"
    }
   ],
   "source": [
    "# default integer type\n",
    "typeof(42)"
   ]
  },
  {
   "cell_type": "code",
   "execution_count": 12,
   "metadata": {},
   "outputs": [
    {
     "data": {
      "text/plain": [
       "Float64"
      ]
     },
     "metadata": {},
     "output_type": "display_data"
    }
   ],
   "source": [
    "# default floating point type\n",
    "typeof(42.42)"
   ]
  },
  {
   "cell_type": "code",
   "execution_count": 13,
   "metadata": {},
   "outputs": [
    {
     "data": {
      "text/plain": [
       ":x"
      ]
     },
     "metadata": {},
     "output_type": "display_data"
    }
   ],
   "source": [
    "# we can define a formal symbol by using the : operator\n",
    ":x"
   ]
  },
  {
   "cell_type": "code",
   "execution_count": 14,
   "metadata": {},
   "outputs": [
    {
     "data": {
      "text/plain": [
       "Symbol"
      ]
     },
     "metadata": {},
     "output_type": "display_data"
    }
   ],
   "source": [
    "typeof(:x)"
   ]
  },
  {
   "cell_type": "code",
   "execution_count": 15,
   "metadata": {},
   "outputs": [
    {
     "name": "stdout",
     "output_type": "stream",
     "text": [
      "4242\n"
     ]
    }
   ],
   "source": [
    "# separating different arguments for println are not done by default\n",
    "println(42, 42)"
   ]
  },
  {
   "cell_type": "code",
   "execution_count": 16,
   "metadata": {},
   "outputs": [
    {
     "name": "stdout",
     "output_type": "stream",
     "text": [
      "[46.0, 12.0, 0.75]\n"
     ]
    }
   ],
   "source": [
    "# type conversion. if we have a list of different types, e.g. integers and floats mixed, then julia will convert everything to floating. This concept improves performance!\n",
    "println([ 4+42, 3*4, 3/4])"
   ]
  },
  {
   "cell_type": "code",
   "execution_count": 17,
   "metadata": {},
   "outputs": [
    {
     "data": {
      "text/plain": [
       "Vector{Float64} (alias for Array{Float64, 1})"
      ]
     },
     "metadata": {},
     "output_type": "display_data"
    }
   ],
   "source": [
    "typeof([4.0, 1, 2, 42])"
   ]
  },
  {
   "cell_type": "code",
   "execution_count": 18,
   "metadata": {},
   "outputs": [
    {
     "data": {
      "text/plain": [
       "Rational{Int64}"
      ]
     },
     "metadata": {},
     "output_type": "display_data"
    }
   ],
   "source": [
    "# We have builtin support for rational numbers!!! (using double //)\n",
    "typeof(5//2)"
   ]
  },
  {
   "cell_type": "code",
   "execution_count": 19,
   "metadata": {},
   "outputs": [
    {
     "data": {
      "text/plain": [
       "hello world 2"
      ]
     },
     "metadata": {},
     "output_type": "display_data"
    }
   ],
   "source": [
    "# using standard boolean operators as in python. notice that println does not seem to work here, we use PlutoUI Print function.\n",
    "begin\n",
    "    a = true\n",
    "    b = false\n",
    "    if a && b\n",
    "        Print(\"hello world\")\n",
    "    elseif a || b\n",
    "        Print(\"hello world 2\")\n",
    "    elseif !a\n",
    "        Print(\"hello world 3\")\n",
    "    end\n",
    "end"
   ]
  },
  {
   "cell_type": "code",
   "execution_count": 20,
   "metadata": {},
   "outputs": [
    {
     "data": {
      "text/plain": [
       "\"42 42\""
      ]
     },
     "metadata": {},
     "output_type": "display_data"
    }
   ],
   "source": [
    "# we can join strings as follows\n",
    "join([42, 42], \" \")"
   ]
  },
  {
   "cell_type": "code",
   "execution_count": 21,
   "metadata": {},
   "outputs": [
    {
     "data": {
      "text/plain": [
       "\"abcabcabc\""
      ]
     },
     "metadata": {},
     "output_type": "display_data"
    }
   ],
   "source": [
    "# we can repeat any variable as follows\n",
    "\"abc\"^3"
   ]
  },
  {
   "cell_type": "code",
   "execution_count": 22,
   "metadata": {},
   "outputs": [
    {
     "name": "stdout",
     "output_type": "stream",
     "text": [
      "Divisible by 3\n"
     ]
    }
   ],
   "source": [
    "# Basic control structure\n",
    "n = 42\n",
    "if n > 1 && n < 23\n",
    "    println(\"Hello World\")\n",
    "elseif n % 3 == 0\n",
    "    println(\"Divisible by 3\")\n",
    "else\n",
    "    println(n)\n",
    "end"
   ]
  },
  {
   "cell_type": "code",
   "execution_count": 23,
   "metadata": {},
   "outputs": [
    {
     "data": {
      "text/plain": [
       "42"
      ]
     },
     "metadata": {},
     "output_type": "display_data"
    }
   ],
   "source": [
    "# Inline ternary operator\n",
    "x = n > 42 ? 0 : n"
   ]
  },
  {
   "cell_type": "code",
   "execution_count": 24,
   "metadata": {},
   "outputs": [
    {
     "name": "stdout",
     "output_type": "stream",
     "text": [
      "01234567891011121314151617181920212223242526272829303132333435363738394041"
     ]
    }
   ],
   "source": [
    "# while loop. notice that there is no \"i++\" statement but we can use the shorthand notation \"i += 1\"\n",
    "i = 0\n",
    "while i < 42\n",
    "    print(i)\n",
    "    i += 1\n",
    "end"
   ]
  },
  {
   "cell_type": "code",
   "execution_count": 4,
   "metadata": {},
   "outputs": [
    {
     "name": "stdout",
     "output_type": "stream",
     "text": [
      "12345678"
     ]
    }
   ],
   "source": [
    "# for loop\n",
    "arr = [1, 2, 3, 4, 5, 6, 7, 8]\n",
    "for x in arr\n",
    "    print(x)\n",
    "end"
   ]
  },
  {
   "cell_type": "code",
   "execution_count": 26,
   "metadata": {},
   "outputs": [
    {
     "name": "stdout",
     "output_type": "stream",
     "text": [
      "1234567891011121314151617181920"
     ]
    }
   ],
   "source": [
    "# we have a \"range\" like construct as we have in Python\n",
    "for var in 1:20\n",
    "    print(var)\n",
    "end"
   ]
  },
  {
   "cell_type": "code",
   "execution_count": 27,
   "metadata": {},
   "outputs": [
    {
     "name": "stdout",
     "output_type": "stream",
     "text": [
      "we are finished\n"
     ]
    }
   ],
   "source": [
    "# there is no native \"do while loop\" in julia. However, there is this really cool construct.\n",
    "while true\n",
    "    3 > 2 && break\n",
    "end\n",
    "println(\"we are finished\")"
   ]
  },
  {
   "cell_type": "code",
   "execution_count": 29,
   "metadata": {},
   "outputs": [
    {
     "data": {
      "text/plain": [
       "5-element Vector{Int64}:\n",
       " 42\n",
       " 41\n",
       " 40\n",
       " 39\n",
       "  2"
      ]
     },
     "metadata": {},
     "output_type": "display_data"
    }
   ],
   "source": [
    "# create a collection\n",
    "collection = [42, 41, 40, 39, 2]"
   ]
  },
  {
   "cell_type": "code",
   "execution_count": 30,
   "metadata": {},
   "outputs": [
    {
     "data": {
      "text/plain": [
       "Vector{Int64} (alias for Array{Int64, 1})"
      ]
     },
     "metadata": {},
     "output_type": "display_data"
    }
   ],
   "source": [
    "typeof(collection)"
   ]
  },
  {
   "cell_type": "code",
   "execution_count": 35,
   "metadata": {},
   "outputs": [
    {
     "data": {
      "text/plain": [
       "Vector{Float64} (alias for Array{Float64, 1})"
      ]
     },
     "metadata": {},
     "output_type": "display_data"
    }
   ],
   "source": [
    "# if we have a collection with one float, then the whole list is converted to float for performance reasons\n",
    "collection2 = [42, 42.0]\n",
    "typeof(collection2)"
   ]
  },
  {
   "cell_type": "code",
   "execution_count": null,
   "metadata": {},
   "outputs": [],
   "source": [
    "# it is interesting that this does not happen if we append a floating point number and mutate the passed collection using the ! operator\n",
    "append!(collection, 2.0)"
   ]
  },
  {
   "cell_type": "code",
   "execution_count": 36,
   "metadata": {},
   "outputs": [
    {
     "data": {
      "text/plain": [
       "Vector{Int64} (alias for Array{Int64, 1})"
      ]
     },
     "metadata": {},
     "output_type": "display_data"
    }
   ],
   "source": [
    "typeof(collection)"
   ]
  },
  {
   "cell_type": "code",
   "execution_count": 38,
   "metadata": {},
   "outputs": [
    {
     "data": {
      "text/plain": [
       "5-element Vector{Any}:\n",
       " 1\n",
       " 2\n",
       " 3\n",
       " 4\n",
       "  \"2\""
      ]
     },
     "metadata": {},
     "output_type": "display_data"
    }
   ],
   "source": [
    "# having a mixed collection, then this collection is going to be of type any. This is the type on top of Julias type hierarchy. This has obvious performance slowdowns.\n",
    "collection3 = [1, 2, 3 ,4, \"2\"]"
   ]
  },
  {
   "cell_type": "code",
   "execution_count": 39,
   "metadata": {},
   "outputs": [
    {
     "data": {
      "text/plain": [
       "Vector{Any} (alias for Array{Any, 1})"
      ]
     },
     "metadata": {},
     "output_type": "display_data"
    }
   ],
   "source": [
    "typeof(collection3)"
   ]
  },
  {
   "cell_type": "code",
   "execution_count": 43,
   "metadata": {},
   "outputs": [
    {
     "name": "stdout",
     "output_type": "stream",
     "text": [
      "1\n"
     ]
    }
   ],
   "source": [
    "# ATTENTION julia used 1 index based arrays. this is different from almost all other languages\n",
    "arr = [1, 2, 3, 4, 5]\n",
    "println(arr[1])"
   ]
  },
  {
   "cell_type": "code",
   "execution_count": 44,
   "metadata": {},
   "outputs": [
    {
     "data": {
      "text/plain": [
       "6-element Vector{Int64}:\n",
       " 42\n",
       " 41\n",
       " 40\n",
       " 39\n",
       "  2\n",
       "  2"
      ]
     },
     "metadata": {},
     "output_type": "display_data"
    }
   ],
   "source": [
    "# create a copy of \"collection\"\n",
    "copyCollection = collection[:]"
   ]
  },
  {
   "cell_type": "code",
   "execution_count": 45,
   "metadata": {},
   "outputs": [
    {
     "data": {
      "text/plain": [
       "5-element Vector{Int64}:\n",
       " 41\n",
       " 40\n",
       " 39\n",
       "  2\n",
       "  2"
      ]
     },
     "metadata": {},
     "output_type": "display_data"
    }
   ],
   "source": [
    "# or from the 2nd element to the end\n",
    "copyCollection2 = collection[2:end]"
   ]
  },
  {
   "cell_type": "markdown",
   "metadata": {},
   "source": [
    "Comming from python, we are tempted to use collection[:4], however since :4 is just a formal symbol, this won't work here, we need to call collection[1:end] here"
   ]
  },
  {
   "cell_type": "code",
   "execution_count": 50,
   "metadata": {},
   "outputs": [
    {
     "data": {
      "text/plain": [
       "2"
      ]
     },
     "metadata": {},
     "output_type": "display_data"
    }
   ],
   "source": [
    "# access the last element\n",
    "collection[end]"
   ]
  },
  {
   "cell_type": "code",
   "execution_count": 51,
   "metadata": {},
   "outputs": [
    {
     "name": "stdout",
     "output_type": "stream",
     "text": [
      "[2, 2, 3, 4, 5]\n"
     ]
    }
   ],
   "source": [
    "# mutate collections\n",
    "arr = [1, 2, 3, 4, 5]\n",
    "arr[1] = 2\n",
    "println(arr)"
   ]
  },
  {
   "cell_type": "code",
   "execution_count": 52,
   "metadata": {},
   "outputs": [
    {
     "name": "stdout",
     "output_type": "stream",
     "text": [
      "arr = [2, 2, 3, 4, 5]\n"
     ]
    }
   ],
   "source": [
    "# the following is useful for debugging\n",
    "@show arr;"
   ]
  },
  {
   "cell_type": "code",
   "execution_count": 53,
   "metadata": {},
   "outputs": [
    {
     "data": {
      "text/plain": [
       "5-element Vector{Int64}:\n",
       " 2\n",
       " 2\n",
       " 3\n",
       " 4\n",
       " 5"
      ]
     },
     "metadata": {},
     "output_type": "display_data"
    }
   ],
   "source": [
    "# create a copy\n",
    "collectionCopy = copy(arr)"
   ]
  },
  {
   "cell_type": "code",
   "execution_count": 54,
   "metadata": {},
   "outputs": [
    {
     "data": {
      "text/plain": [
       "(1, 2, 3)"
      ]
     },
     "metadata": {},
     "output_type": "display_data"
    }
   ],
   "source": [
    "# tuples. they are similar to arrays but are immutable\n",
    "tuple = (1, 2, 3)"
   ]
  },
  {
   "cell_type": "code",
   "execution_count": 56,
   "metadata": {},
   "outputs": [
    {
     "name": "stdout",
     "output_type": "stream",
     "text": [
      "David\n"
     ]
    }
   ],
   "source": [
    "# we can name them inline as follows\n",
    "namedTuple = (firstName=\"David\", lastName=\"Scholz\")\n",
    "println(namedTuple.firstName)"
   ]
  },
  {
   "cell_type": "code",
   "execution_count": 57,
   "metadata": {},
   "outputs": [
    {
     "name": "stdout",
     "output_type": "stream",
     "text": [
      "David\n"
     ]
    }
   ],
   "source": [
    "# create dictonaries\n",
    "d = Dict(\"FirstName\" => \"David\", \"LastName\" => \"Scholz\")\n",
    "println(d[\"FirstName\"])"
   ]
  },
  {
   "cell_type": "code",
   "execution_count": 58,
   "metadata": {},
   "outputs": [
    {
     "name": "stdout",
     "output_type": "stream",
     "text": [
      "Dict(\"hobby\" => \"Julia Language\", \"LastName\" => \"Scholz\", \"FirstName\" => \"David\")\n"
     ]
    }
   ],
   "source": [
    "# add a new value\n",
    "d[\"hobby\"] = \"Julia Language\"\n",
    "println(d)"
   ]
  },
  {
   "cell_type": "code",
   "execution_count": 59,
   "metadata": {},
   "outputs": [
    {
     "data": {
      "text/plain": [
       "\"hobby\" => \"Julia Language\""
      ]
     },
     "metadata": {},
     "output_type": "display_data"
    }
   ],
   "source": [
    "poppedValue = pop!(d)"
   ]
  },
  {
   "cell_type": "code",
   "execution_count": 60,
   "metadata": {},
   "outputs": [
    {
     "name": "stdout",
     "output_type": "stream",
     "text": [
      "Dict(\"LastName\" => \"Scholz\", \"FirstName\" => \"David\")\n"
     ]
    }
   ],
   "source": [
    "println(d)"
   ]
  },
  {
   "cell_type": "code",
   "execution_count": 66,
   "metadata": {},
   "outputs": [
    {
     "name": "stdout",
     "output_type": "stream",
     "text": [
      "Dict(\"LastName\" => \"Scholz\", \"FirstName\" => \"David\", \"Hobby\" => \"Julia Language\")\n",
      "Dict(\"Hobby\" => \"Julia Language\")\n"
     ]
    }
   ],
   "source": [
    "d2 = Dict(\"Hobby\" => \"Julia Language\")\n",
    "# merge d with d2\n",
    "merge!(d, d2)\n",
    "println(d)\n",
    "println(d2)"
   ]
  },
  {
   "cell_type": "code",
   "execution_count": 69,
   "metadata": {},
   "outputs": [
    {
     "name": "stdout",
     "output_type": "stream",
     "text": [
      "key=LastName \t value=Scholz\n",
      "key=FirstName \t value=David\n",
      "key=Hobby \t value=Julia Language\n"
     ]
    }
   ],
   "source": [
    "# iterate over keys and values at the same time. notice the notation via $.\n",
    "for (k, v) in d\n",
    "    println(\"key=$k \\t value=$v\")\n",
    "end"
   ]
  },
  {
   "cell_type": "code",
   "execution_count": 70,
   "metadata": {},
   "outputs": [
    {
     "name": "stdout",
     "output_type": "stream",
     "text": [
      "symbolDict = Dict(:hobby => \"Julia Language\")\n"
     ]
    },
    {
     "data": {
      "text/plain": [
       "Dict{Symbol, String} with 1 entry:\n",
       "  :hobby => \"Julia Language\""
      ]
     },
     "metadata": {},
     "output_type": "display_data"
    }
   ],
   "source": [
    "# In Julia, it is even possible to use symbols as keys!\n",
    "symbolDict = Dict(:hobby => \"Julia Language\")\n",
    "@show symbolDict"
   ]
  },
  {
   "cell_type": "markdown",
   "metadata": {},
   "source": [
    "Julia provides an excellent support for arrays, matrices and tensors"
   ]
  },
  {
   "cell_type": "code",
   "execution_count": 78,
   "metadata": {},
   "outputs": [
    {
     "name": "stdout",
     "output_type": "stream",
     "text": [
      "vector = [1 2 3]\n",
      "vector = [1, 2, 3]\n",
      "vector = [1, 2, 3, 1]\n",
      "vector = [1, 2, 3]\n"
     ]
    },
    {
     "data": {
      "text/plain": [
       "3-element Vector{Int64}:\n",
       " 1\n",
       " 2\n",
       " 3"
      ]
     },
     "metadata": {},
     "output_type": "display_data"
    }
   ],
   "source": [
    "# 1 dimensional array\n",
    "vector = [1, 2, 3]\n",
    "typeof(vector)\n",
    "@show vector\n",
    "# push element to the end\n",
    "push!(vector, 1)\n",
    "@show vector\n",
    "# pop the last element\n",
    "pop!(vector)\n",
    "@show vector"
   ]
  },
  {
   "cell_type": "code",
   "execution_count": 79,
   "metadata": {},
   "outputs": [
    {
     "data": {
      "text/plain": [
       "Vector{Vector{Int64}} (alias for Array{Array{Int64, 1}, 1})"
      ]
     },
     "metadata": {},
     "output_type": "display_data"
    }
   ],
   "source": [
    "# a two dimensional array is constructed as usual. we use a list of lists\n",
    "arr = [\n",
    "    [1, 2 ,3],\n",
    "    [1, 2, 3],\n",
    "    [1, 2, 3]\n",
    "]\n",
    "typeof(arr)"
   ]
  },
  {
   "cell_type": "code",
   "execution_count": 76,
   "metadata": {},
   "outputs": [
    {
     "name": "stdout",
     "output_type": "stream",
     "text": [
      "y = [1; 2; 3;;]\n"
     ]
    },
    {
     "data": {
      "text/plain": [
       "3×1 adjoint(::Matrix{Int64}) with eltype Int64:\n",
       " 1\n",
       " 2\n",
       " 3"
      ]
     },
     "metadata": {},
     "output_type": "display_data"
    }
   ],
   "source": [
    "# However, in Julia we can create actual matrices as well!\n",
    "vector = [1 2 3]\n",
    "typeof(vector)\n",
    "# we can transpose as follows\n",
    "y = vector'\n",
    "typeof(y)\n",
    "typeof(vector)\n",
    "@show y"
   ]
  },
  {
   "cell_type": "code",
   "execution_count": 80,
   "metadata": {},
   "outputs": [
    {
     "name": "stdout",
     "output_type": "stream",
     "text": [
      "matrix = [1 2 3; 4 5 6; 7 8 9]\n"
     ]
    },
    {
     "data": {
      "text/plain": [
       "3×3 Matrix{Int64}:\n",
       " 1  2  3\n",
       " 4  5  6\n",
       " 7  8  9"
      ]
     },
     "metadata": {},
     "output_type": "display_data"
    }
   ],
   "source": [
    "# this of course works for 2 dimensional matrices as well\n",
    "matrix = [\n",
    "    [1 2 3]\n",
    "    [4 5 6]\n",
    "    [7 8 9]\n",
    "]\n",
    "@show matrix"
   ]
  },
  {
   "cell_type": "code",
   "execution_count": 81,
   "metadata": {},
   "outputs": [
    {
     "data": {
      "text/plain": [
       "(3, 3)"
      ]
     },
     "metadata": {},
     "output_type": "display_data"
    }
   ],
   "source": [
    "size(matrix) #3x3 matrix"
   ]
  },
  {
   "cell_type": "code",
   "execution_count": 83,
   "metadata": {},
   "outputs": [
    {
     "data": {
      "text/plain": [
       "9×1 Matrix{Int64}:\n",
       " 1\n",
       " 4\n",
       " 7\n",
       " 2\n",
       " 5\n",
       " 8\n",
       " 3\n",
       " 6\n",
       " 9"
      ]
     },
     "metadata": {},
     "output_type": "display_data"
    }
   ],
   "source": [
    "# matrices can be reshaped as follows (this works column wise)\n",
    "matrix2 = reshape(matrix, 9,1)"
   ]
  },
  {
   "cell_type": "code",
   "execution_count": 84,
   "metadata": {},
   "outputs": [
    {
     "data": {
      "text/plain": [
       "4×3 Matrix{Float64}:\n",
       " 0.7414      0.0916452  0.879098\n",
       " 0.522885    0.981919   0.403239\n",
       " 0.799681    0.950792   0.469104\n",
       " 0.00590864  0.996708   0.967143"
      ]
     },
     "metadata": {},
     "output_type": "display_data"
    }
   ],
   "source": [
    "# we can create some random matrices (4x3 matrix of random values between 0 and 1)\n",
    "randMatrix = rand(4, 3)"
   ]
  },
  {
   "cell_type": "code",
   "execution_count": 85,
   "metadata": {},
   "outputs": [
    {
     "name": "stdout",
     "output_type": "stream",
     "text": [
      "[1, 4, 9, 16, 25, 36, 49, 64, 81, 100, 121, 144, 169, 196, 225, 256, 289, 324, 361, 400]\n",
      "[(1, 36) (1, 49) (1, 64) (1, 81) (1, 100); (2, 36) (2, 49) (2, 64) (2, 81) (2, 100); (3, 36) (3, 49) (3, 64) (3, 81) (3, 100); (4, 36) (4, 49) (4, 64) (4, 81) (4, 100); (5, 36) (5, 49) (5, 64) (5, 81) (5, 100)]\n"
     ]
    }
   ],
   "source": [
    "# these python constructions also work in Julia\n",
    "a = [i^2 for i in 1:20]\n",
    "println(a)\n",
    "# create an array of tuples using two for loops. this can be done in a single line\n",
    "b = [(i, j^2) for i in 1:5, j in 6:10]\n",
    "println(b)"
   ]
  },
  {
   "cell_type": "code",
   "execution_count": 86,
   "metadata": {},
   "outputs": [
    {
     "data": {
      "text/plain": [
       "3×3 Matrix{Int64}:\n",
       " 0  0  0\n",
       " 0  0  0\n",
       " 0  0  0"
      ]
     },
     "metadata": {},
     "output_type": "display_data"
    }
   ],
   "source": [
    "# we can fill up an array as follows\n",
    "A = fill(0, (3, 3))"
   ]
  },
  {
   "cell_type": "code",
   "execution_count": 97,
   "metadata": {},
   "outputs": [
    {
     "data": {
      "text/plain": [
       "3×3 adjoint(::Matrix{Int64}) with eltype Int64:\n",
       " 5  5  5\n",
       " 5  5  5\n",
       " 5  5  5"
      ]
     },
     "metadata": {},
     "output_type": "display_data"
    }
   ],
   "source": [
    "# julia has a nice linear algebra package\n",
    "using LinearAlgebra\n",
    "A = fill(5, (3, 3))\n",
    "det(A)\n",
    "# transpose\n",
    "A'"
   ]
  },
  {
   "cell_type": "code",
   "execution_count": 110,
   "metadata": {},
   "outputs": [
    {
     "name": "stdout",
     "output_type": "stream",
     "text": [
      "[2.0590644044832302, 4.186954778917233, 3.7691967771097037]\n"
     ]
    },
    {
     "data": {
      "text/plain": [
       "3-element Vector{Float64}:\n",
       " 2.9999999999999645\n",
       " 2.999999999999841\n",
       " 3.0000000000003957"
      ]
     },
     "metadata": {},
     "output_type": "display_data"
    }
   ],
   "source": [
    "# we can solve linear equations as follows\n",
    "A = rand(3, 3)\n",
    "x = fill(3, (3, ))\n",
    "b = A*x\n",
    "println(b)\n",
    "# solve for x\n",
    "A\\b"
   ]
  },
  {
   "cell_type": "code",
   "execution_count": 116,
   "metadata": {},
   "outputs": [
    {
     "data": {
      "text/plain": [
       "4×3×2 Array{Float64, 3}:\n",
       "[:, :, 1] =\n",
       " 0.448972  0.445571  0.563995\n",
       " 0.645816  0.921272  0.18862\n",
       " 0.346873  0.600855  0.734782\n",
       " 0.592508  0.989557  0.927294\n",
       "\n",
       "[:, :, 2] =\n",
       " 0.115914  0.94012   0.385235\n",
       " 0.601929  0.215477  0.685085\n",
       " 0.293325  0.591033  0.408072\n",
       " 0.990873  0.354649  0.332656"
      ]
     },
     "metadata": {},
     "output_type": "display_data"
    }
   ],
   "source": [
    "# we can have tensors (n dimensional array) as well, e.g. 4x3x2\n",
    "tensor = rand(4, 3 ,2)"
   ]
  },
  {
   "cell_type": "code",
   "execution_count": 117,
   "metadata": {},
   "outputs": [
    {
     "name": "stdout",
     "output_type": "stream",
     "text": [
      "c = 1 + 3im\n"
     ]
    },
    {
     "data": {
      "text/plain": [
       "1 + 3im"
      ]
     },
     "metadata": {},
     "output_type": "display_data"
    }
   ],
   "source": [
    "# we have complex numbers in Julia builtin as well. The 'im' is a builtin in Julia for the imaginary part\n",
    "c = 1 + 3*im\n",
    "@show c"
   ]
  },
  {
   "cell_type": "code",
   "execution_count": 121,
   "metadata": {},
   "outputs": [
    {
     "data": {
      "text/plain": [
       "true"
      ]
     },
     "metadata": {},
     "output_type": "display_data"
    }
   ],
   "source": [
    "# we can check data types in Julia as follows\n",
    "isa(c, Complex)"
   ]
  },
  {
   "cell_type": "code",
   "execution_count": 125,
   "metadata": {},
   "outputs": [
    {
     "name": "stdout",
     "output_type": "stream",
     "text": [
      "4\n",
      "4\n"
     ]
    }
   ],
   "source": [
    "# in Julia we do not need a explicit return statement. The last statement will be returned\n",
    "function square(x)\n",
    "    x * x\n",
    "end\n",
    "println(square(2))\n",
    "# we can include the return anyway if we want to improve readability\n",
    "function square2(x)\n",
    "    return x*x\n",
    "end\n",
    "println(square2(2))"
   ]
  },
  {
   "cell_type": "code",
   "execution_count": 127,
   "metadata": {},
   "outputs": [
    {
     "data": {
      "text/plain": [
       "2.0"
      ]
     },
     "metadata": {},
     "output_type": "display_data"
    }
   ],
   "source": [
    "# we can create shorthand one line functions as follows\n",
    "divide(x, y) = x / y\n",
    "divide(4, 2)"
   ]
  },
  {
   "cell_type": "code",
   "execution_count": 129,
   "metadata": {},
   "outputs": [
    {
     "name": "stdout",
     "output_type": "stream",
     "text": [
      "[4, 2, 3]\n"
     ]
    }
   ],
   "source": [
    "# by convention, we append a ! infront of functions that mutate data, e.g.\n",
    "function replace!(arr, index, value)\n",
    "    arr[index] = value\n",
    "end\n",
    "array = [1, 2, 3]\n",
    "replace!(array, 1, 4)\n",
    "println(array)"
   ]
  },
  {
   "cell_type": "code",
   "execution_count": 133,
   "metadata": {},
   "outputs": [
    {
     "name": "stdout",
     "output_type": "stream",
     "text": [
      "4\n",
      "4.0\n"
     ]
    }
   ],
   "source": [
    "# overloading functions is also possible\n",
    "function number(x::Int64)\n",
    "    x\n",
    "end\n",
    "\n",
    "function number(x::Float64)\n",
    "    x\n",
    "end\n",
    "\n",
    "println(number(4))\n",
    "println(number(4.0))"
   ]
  },
  {
   "cell_type": "code",
   "execution_count": 134,
   "metadata": {},
   "outputs": [
    {
     "data": {
      "text/html": [
       "# 2 methods for generic function <b>number</b>:<ul><li> number(x::<b>Int64</b>) in Main at <a href=\"https://github.com/pgrepds/julia-playground/tree/2e05c84a0e45b2d866d723088c7997dce96d9b8d//core.ipynb#L2\" target=\"_blank\">/home/pgrepds/Documents/Lager/julia-playground/core.ipynb:2</a></li> <li> number(x::<b>Float64</b>) in Main at <a href=\"https://github.com/pgrepds/julia-playground/tree/2e05c84a0e45b2d866d723088c7997dce96d9b8d//core.ipynb#L6\" target=\"_blank\">/home/pgrepds/Documents/Lager/julia-playground/core.ipynb:6</a></li> </ul>"
      ],
      "text/plain": [
       "# 2 methods for generic function \"number\":\n",
       "[1] number(x::Int64) in Main at /home/pgrepds/Documents/Lager/julia-playground/core.ipynb:2\n",
       "[2] number(x::Float64) in Main at /home/pgrepds/Documents/Lager/julia-playground/core.ipynb:6"
      ]
     },
     "metadata": {},
     "output_type": "display_data"
    }
   ],
   "source": [
    "methods(number)"
   ]
  },
  {
   "cell_type": "code",
   "execution_count": 136,
   "metadata": {},
   "outputs": [],
   "source": [
    "# notice that this speeds up logic, since we could implement certain methods for all the different data types (have a look at methods(+) for an example)"
   ]
  },
  {
   "cell_type": "code",
   "execution_count": 137,
   "metadata": {},
   "outputs": [
    {
     "data": {
      "text/plain": [
       "4"
      ]
     },
     "metadata": {},
     "output_type": "display_data"
    }
   ],
   "source": [
    "# we can create lambdas, anonyomous functions as well\n",
    "a = x -> x^2\n",
    "a(2)"
   ]
  },
  {
   "cell_type": "code",
   "execution_count": 139,
   "metadata": {},
   "outputs": [
    {
     "data": {
      "text/plain": [
       "3-element Vector{Int64}:\n",
       " 2\n",
       " 4\n",
       " 6"
      ]
     },
     "metadata": {},
     "output_type": "display_data"
    }
   ],
   "source": [
    "# we can the usual stuff with this, e.g. filtering arrays on the fly\n",
    "arr = [1, 2, 3, 4, 5, 6, 7]\n",
    "filter!(x -> x % 2 == 0, arr)"
   ]
  },
  {
   "cell_type": "code",
   "execution_count": 140,
   "metadata": {},
   "outputs": [
    {
     "name": "stdout",
     "output_type": "stream",
     "text": [
      "true\n"
     ]
    }
   ],
   "source": [
    "# We can define a symbol to be a function. we can do crazy stuff with this, e.g.\n",
    "≠ = !=\n",
    "println(3 ≠ 4)"
   ]
  },
  {
   "cell_type": "code",
   "execution_count": 141,
   "metadata": {},
   "outputs": [
    {
     "name": "stdout",
     "output_type": "stream",
     "text": [
      "1 2 3\n"
     ]
    }
   ],
   "source": [
    "# we can use something that is called splatting\n",
    "f = (a, b, c) -> println(\"$a $b $c\")\n",
    "arr = [1, 2, 3]\n",
    "f(arr...) # since f takes three arguments, we can \"split\" the array arr using the three dot operator"
   ]
  },
  {
   "cell_type": "code",
   "execution_count": 142,
   "metadata": {},
   "outputs": [
    {
     "data": {
      "text/plain": [
       "15"
      ]
     },
     "metadata": {},
     "output_type": "display_data"
    }
   ],
   "source": [
    "# using reduce\n",
    "collection = [1, 2, 3, 4, 5]\n",
    "reduce(+, collection)"
   ]
  },
  {
   "cell_type": "code",
   "execution_count": 143,
   "metadata": {},
   "outputs": [
    {
     "data": {
      "text/plain": [
       "5-element Vector{Int64}:\n",
       "  2\n",
       "  4\n",
       "  6\n",
       "  8\n",
       " 10"
      ]
     },
     "metadata": {},
     "output_type": "display_data"
    }
   ],
   "source": [
    "# apply a function to each element of a collection\n",
    "collection = [1, 2, 3, 4, 5]\n",
    "broadcast(x -> x*2, collection)"
   ]
  },
  {
   "cell_type": "code",
   "execution_count": 145,
   "metadata": {},
   "outputs": [
    {
     "data": {
      "text/plain": [
       "5-element Vector{Int64}:\n",
       "  4\n",
       "  8\n",
       " 12\n",
       " 16\n",
       " 20"
      ]
     },
     "metadata": {},
     "output_type": "display_data"
    }
   ],
   "source": [
    "# julia has a dedicated operator for this called the dot operator\n",
    "(x-> x*4).(collection)"
   ]
  },
  {
   "cell_type": "code",
   "execution_count": 146,
   "metadata": {},
   "outputs": [
    {
     "data": {
      "text/plain": [
       "5-element Vector{Int64}:\n",
       " 2\n",
       " 3\n",
       " 4\n",
       " 5\n",
       " 6"
      ]
     },
     "metadata": {},
     "output_type": "display_data"
    }
   ],
   "source": [
    "# the builtin functions can be used in a similar way, e.g.\n",
    "a = collection .+ 1"
   ]
  },
  {
   "cell_type": "code",
   "execution_count": 147,
   "metadata": {},
   "outputs": [
    {
     "data": {
      "text/plain": [
       "5-element Vector{Int64}:\n",
       "  2\n",
       "  4\n",
       "  6\n",
       "  8\n",
       " 10"
      ]
     },
     "metadata": {},
     "output_type": "display_data"
    }
   ],
   "source": [
    "# or using multiplication\n",
    "collection .* 2"
   ]
  },
  {
   "cell_type": "code",
   "execution_count": 148,
   "metadata": {},
   "outputs": [
    {
     "data": {
      "text/plain": [
       "5-element Vector{Int64}:\n",
       "  2\n",
       "  4\n",
       "  6\n",
       "  8\n",
       " 10"
      ]
     },
     "metadata": {},
     "output_type": "display_data"
    }
   ],
   "source": [
    "# we can even write something like the following to do the same thing\n",
    "2collection"
   ]
  },
  {
   "cell_type": "code",
   "execution_count": null,
   "metadata": {},
   "outputs": [],
   "source": []
  },
  {
   "cell_type": "code",
   "execution_count": null,
   "metadata": {},
   "outputs": [],
   "source": []
  },
  {
   "cell_type": "code",
   "execution_count": null,
   "metadata": {},
   "outputs": [],
   "source": []
  },
  {
   "cell_type": "code",
   "execution_count": null,
   "metadata": {},
   "outputs": [],
   "source": []
  },
  {
   "cell_type": "code",
   "execution_count": null,
   "metadata": {},
   "outputs": [],
   "source": []
  },
  {
   "cell_type": "code",
   "execution_count": null,
   "metadata": {},
   "outputs": [],
   "source": []
  },
  {
   "cell_type": "code",
   "execution_count": null,
   "metadata": {},
   "outputs": [],
   "source": []
  }
 ],
 "metadata": {
  "kernelspec": {
   "display_name": "Julia 1.7.1",
   "language": "julia",
   "name": "julia-1.7"
  },
  "language_info": {
   "file_extension": ".jl",
   "mimetype": "application/julia",
   "name": "julia",
   "version": "1.7.1"
  },
  "orig_nbformat": 4
 },
 "nbformat": 4,
 "nbformat_minor": 2
}
